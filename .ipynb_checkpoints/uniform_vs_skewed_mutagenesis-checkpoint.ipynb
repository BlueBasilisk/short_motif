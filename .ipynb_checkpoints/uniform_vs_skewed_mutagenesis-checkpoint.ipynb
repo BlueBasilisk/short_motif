{
 "cells": [
  {
   "cell_type": "markdown",
   "id": "904210af",
   "metadata": {},
   "source": [
    "# Metrics on uniform vs skewed mutagenesis sequence distributions\n",
    "\n",
    "Previously, we discussed how using sequences from a skewed mutagenesis distibution (e.g., Mason and Brij datasets) cause problems when calculating performance metrics (accuracy, precision/recall, etc), because positions important for binding are overrepresented in both binders and non-binders. \n",
    "\n",
    "\n",
    "Below I use a minimal simulation to show that when calculating performance metrics, weighting individual sequences from a dataset with skewed character distributions can be used to estimate what the performance would have been on a dataset with a uniform character distribution. Sequences are weigthed according to P(sequence|uniform distribution)/P(sequence|skewed distribution)."
   ]
  },
  {
   "cell_type": "code",
   "execution_count": 7,
   "id": "4d56104e",
   "metadata": {},
   "outputs": [],
   "source": [
    "import random\n",
    "import pandas as pd\n",
    "import plotly.express as px\n",
    "\n",
    "from sklearn.metrics import accuracy_score, balanced_accuracy_score, precision_score, recall_score, roc_auc_score, confusion_matrix"
   ]
  },
  {
   "cell_type": "code",
   "execution_count": 39,
   "id": "a44a32ce",
   "metadata": {},
   "outputs": [],
   "source": [
    "def get_skewed_sequence(alphabet=\"ABCD\", mutagenesis_weights=((25,25,25,25), (25,25,25,25), (25,25,25,25), (25,25,25,25), (25,25,25,25))):\n",
    "    '''\n",
    "    len(mutagenesis_weights) is the length of the sequence that will be created\n",
    "    each tuple inside mutagenesis_weights represents the relative percentage of each alphabet character\n",
    "    \n",
    "    example:\n",
    "    with alphabet=\"ABCD\" and mutagenesis_weights=((25,25,25,25), (85,5,5,5))\n",
    "    - a sequence will be created of length 2\n",
    "    - position 1 will be A, B, C or D with uniform probabilities\n",
    "    - position 2 will have 85% chance of being A, and 5% chance of being B, C or D\n",
    "    '''\n",
    "    return \"\".join([item for sublist in\n",
    "                    [random.choices(alphabet, weights=weights, k=1) for weights in mutagenesis_weights]\n",
    "                    for item in sublist])\n",
    "\n",
    "\n",
    "def is_binding(seq, signal_fn, prob_binding_if_signal=0.2, prob_binding_if_not_signal=0.02):\n",
    "    random_cutoff = random.uniform(0, 1)\n",
    "\n",
    "    if signal_fn(seq):\n",
    "        if random_cutoff <= prob_binding_if_signal:\n",
    "            return True\n",
    "        else:\n",
    "            return False\n",
    "    else:\n",
    "        if random_cutoff <= prob_binding_if_not_signal:\n",
    "            return True\n",
    "        else:\n",
    "            return False\n",
    "\n",
    "\n",
    "def get_sequence_weight(seq, alphabet, mutagenesis_weights):\n",
    "    '''\n",
    "    Returns the sequence weight according to how much more or less often the given sequence\n",
    "    would be observed in a uniform distribution compared to the skewed mutagenesis distribution. \n",
    "    \n",
    "    For alphabet ABCD, uniform percentage would be 25%\n",
    "    If A in position 1 is skewed to 85%:\n",
    "        if sequence has A in position 1: sequence_weight would be 25/85 = 0.29\n",
    "        if sequence has B/C/D in position 1: sequence_weight would be 25/5 = 5\n",
    "\n",
    "    multiply sequence_weights for each position to get the total weigth for the sequence.\n",
    "    '''\n",
    "    sequence_weight = 1\n",
    "\n",
    "    uniform_percentage = 100 / len(alphabet)\n",
    "\n",
    "    for position in range(len(seq)):\n",
    "        mutagenesis_percentage = mutagenesis_weights[position][alphabet.index(seq[position])]\n",
    "        position_weight = uniform_percentage / mutagenesis_percentage\n",
    "        sequence_weight = sequence_weight*position_weight\n",
    "\n",
    "    return sequence_weight\n",
    "\n",
    "\n",
    "# Utility functions for making mutagenesis_weights tuples with a 'signal' consisting of one or more 'A'\n",
    "\n",
    "def get_skewed_a_weights(a_percentage, alphabet=\"ABCD\"):\n",
    "    assert \"A\" in alphabet, \"A not in alphabet\"\n",
    "\n",
    "    number_of_not_a = len(alphabet) - 1\n",
    "\n",
    "    non_a_percentages = (100 - a_percentage) / number_of_not_a\n",
    "\n",
    "    weights = [a_percentage] + [non_a_percentages for _ in range(number_of_not_a)]\n",
    "\n",
    "    return tuple(weights)\n",
    "\n",
    "def get_multi_position_skewed_a_weights(a_percentages, alphabet=\"ABCD\"):\n",
    "    return tuple([get_skewed_a_weights(a_percentage, alphabet) for a_percentage in a_percentages])\n"
   ]
  },
  {
   "cell_type": "markdown",
   "id": "58b8e0b2",
   "metadata": {},
   "source": [
    "The `experiment` function below creates a sequence dataset, where the sequences are sampled according to a given positional amino acid frequency distribution (i.e., skewed mutagenesis), and calculates several performance metrics (accuracy, balanced accuracy, precision, recall/sensitivity, specificity). The performance metrics are calculated in 2 ways: with and without weighting. When weighting is used, the weight of each sequence is according to P(sequence|uniform distribution)/P(sequence|skewed distribution).\n",
    "\n",
    "Explanation of parameters:\n",
    "- n_sequences: the total number of sequences \n",
    "- alphabet: the sequence alphabet. Set to a limited alphabet for simplicity. To use true amino acid sequences set to \"ACDEFGHIKLMNPQRSTVWY\"\n",
    "- mutagenesis_weights: for each position in the sequence, a tuple with percentages representing the relative frequency distribution of each character in the alphabet. len(mutagenesis_weights) == len(sequence), and len(mutagenesis_weights[i]) == len(alphabet)\n",
    "- signal_fn: a function which takes in a sequence and returns a boolean value representing whether the sequence contains the 'signal'\n",
    "- prob_binding_if_signal: P(binding|sequence contains signal)\n",
    "- prob_binding_if_not_signal: P(binding|sequence does not contain signal)\n",
    "- repeat: how often to repeat the complete experiment with a different random starting state. Each repeat adds one row to the resulting dataframe. \n",
    "- random_seed: random seed to apply before all repeated experiments start\n",
    "- perform_checks: whether to sanity check the parameters (may fail if mutagenesis_weights contains fractions and can in that case be turned off)"
   ]
  },
  {
   "cell_type": "code",
   "execution_count": 54,
   "id": "956696e4",
   "metadata": {},
   "outputs": [],
   "source": [
    "def check_params(n_sequences, mutagenesis_weights, prob_binding_if_signal, prob_binding_if_not_signal, alphabet, signal_fn):\n",
    "    for pos_weights in mutagenesis_weights:\n",
    "        assert len(alphabet) == len(pos_weights), f\"Alphabet length {len(alphabet)} does not match {pos_weights}\"\n",
    "        assert sum(pos_weights) == 100, f\"{pos_weights} does not sum to 100\"\n",
    "\n",
    "    assert 1 >= prob_binding_if_signal >= 0, f\"prob_binding_if_signal should be in range [0,1] found {prob_binding_if_signal}\"\n",
    "    assert 1 >= prob_binding_if_not_signal >= 0, f\"prob_binding_if_not_signal should be in range [0,1] found {prob_binding_if_not_signal}\"\n",
    "\n",
    "def experiment(n_sequences = 10000,\n",
    "               alphabet=\"ABCD\",\n",
    "               mutagenesis_weights = ((25, 25, 25, 25), (25, 25, 25, 25), (25, 25, 25, 25), (25, 25, 25, 25), (25, 25, 25, 25)),\n",
    "               signal_fn=lambda seq: seq[1:-1] == \"AAA\",\n",
    "               prob_binding_if_signal = 0.2,\n",
    "               prob_binding_if_not_signal = 0.02,\n",
    "               repeat=10,\n",
    "               random_seed=2022,\n",
    "               perform_checks=True):\n",
    "    random.seed(random_seed)\n",
    "\n",
    "    if perform_checks:\n",
    "        check_params(n_sequences, mutagenesis_weights, prob_binding_if_signal, prob_binding_if_not_signal, alphabet, signal_fn)\n",
    "\n",
    "    dfs = []\n",
    "\n",
    "    for i in range(repeat):\n",
    "        seqs = [get_skewed_sequence(alphabet=alphabet, mutagenesis_weights=mutagenesis_weights) for i in range(n_sequences)]\n",
    "        binding = [is_binding(seq, signal_fn=signal_fn,\n",
    "                              prob_binding_if_signal=prob_binding_if_signal,\n",
    "                              prob_binding_if_not_signal=prob_binding_if_not_signal)\n",
    "                   for seq in seqs]\n",
    "        prediction = [signal_fn(seq) for seq in seqs]\n",
    "\n",
    "        sample_weights = [get_sequence_weight(seq, alphabet=alphabet, mutagenesis_weights=mutagenesis_weights) for seq in seqs]\n",
    "\n",
    "        metrics = {\"percentage_A\": \",\".join([str(pos_weights[0]) for pos_weights in mutagenesis_weights]),  # could add: percentage_B, percentage_C, percentage_D as well\n",
    "                   \"prob_binding_if_signal\": prob_binding_if_signal,\n",
    "                   \"prob_binding_if_not_signal\": prob_binding_if_not_signal,\n",
    "                   \"fraction_binders\": [sum(binding) / n_sequences],\n",
    "                   \"fraction_predicted_binders\": [sum(prediction) / n_sequences],\n",
    "                   \"accuracy\": [accuracy_score(y_true=binding, y_pred=prediction)],\n",
    "                   \"w_accuracy\": [accuracy_score(y_true=binding, y_pred=prediction, sample_weight=sample_weights)],\n",
    "                   \"balanced_accuracy\": [balanced_accuracy_score(y_true=binding, y_pred=prediction)],\n",
    "                   \"w_balanced_accuracy\": [balanced_accuracy_score(y_true=binding, y_pred=prediction, sample_weight=sample_weights)],\n",
    "                   \"precision\": [precision_score(y_true=binding, y_pred=prediction)],\n",
    "                   \"w_precision\": [precision_score(y_true=binding, y_pred=prediction, sample_weight=sample_weights)],\n",
    "                   \"recall/sensitivity\": [recall_score(y_true=binding, y_pred=prediction)],\n",
    "                   \"w_recall/sensitivity\": [recall_score(y_true=binding, y_pred=prediction, sample_weight=sample_weights)],\n",
    "                   \"specificity\": [recall_score(y_true=binding, y_pred=prediction, pos_label=False)],\n",
    "                   \"w_specificity\": [recall_score(y_true=binding, y_pred=prediction, pos_label=False, sample_weight=sample_weights)]}\n",
    "\n",
    "        dfs.append(pd.DataFrame(metrics))\n",
    "\n",
    "    return pd.concat(dfs)"
   ]
  },
  {
   "cell_type": "code",
   "execution_count": 55,
   "id": "2c29d29d",
   "metadata": {},
   "outputs": [],
   "source": [
    "# Utility code to reshape/combine multiple dataframes created by experiment()\n",
    "\n",
    "param_cols = [\"percentage_A\", \"prob_binding_if_signal\", \"prob_binding_if_not_signal\", \"fraction_binders\", \"fraction_predicted_binders\"]\n",
    "metric_cols = [\"accuracy\", \"balanced_accuracy\", \"precision\", \"recall/sensitivity\", \"specificity\"]\n",
    "weigted_metric_cols = [f\"w_{metric}\" for metric in metric_cols]\n",
    "\n",
    "\n",
    "def collapse_weight_cols(df):\n",
    "    df_unweighted = df[param_cols + metric_cols].copy()\n",
    "    df_weighted = df[param_cols + weigted_metric_cols].copy()\n",
    "    df_weighted.rename(columns=lambda x: x.replace(\"w_\", \"\"), inplace=True)\n",
    "\n",
    "    df_unweighted[\"type\"] = \"unweigthed\"\n",
    "    df_weighted[\"type\"] = \"weighted\"\n",
    "\n",
    "    return pd.concat([df_unweighted, df_weighted])\n",
    "\n",
    "\n",
    "def merge_uni_weighted_dfs(df_uniform, df_mutagenesis):\n",
    "    '''\n",
    "    input: dfs created by 'experiment'; one with uniform sequences and one mutagenesis-based\n",
    "    '''\n",
    "    df_uni = df_uniform[param_cols + metric_cols].copy()\n",
    "    df_uni[\"type\"] = \"uniform\"\n",
    "    df_muta = collapse_weight_cols(df_mutagenesis)\n",
    "    df = pd.concat([df_uni, df_muta])\n",
    "    return df\n",
    "\n",
    "\n",
    "def metrics_to_long_format(df):\n",
    "    '''\n",
    "    input: df as created by merge_uni_weighted_dfs()\n",
    "\n",
    "    '''\n",
    "    return pd.melt(df, id_vars=param_cols + [\"type\"], value_vars=metric_cols, var_name=\"metric\", value_name=\"value\")\n"
   ]
  },
  {
   "cell_type": "markdown",
   "id": "f6299371",
   "metadata": {},
   "source": [
    "I here run the experiment function under 6 different conditions:\n",
    "- Testing 3 different signals, namely A in positon 1, AA in positon 1-2 and AAA in position 1-3\n",
    "- Using a uniform sequence distribution (each character occurs 25% at each position) and a skewed mutagenesis distribution. In the skewed mutagenesis case, amino acid A is oversampled (85% instead of 25%) in the positions according to the 3 different signals defined above. "
   ]
  },
  {
   "cell_type": "code",
   "execution_count": 56,
   "id": "c519282e",
   "metadata": {},
   "outputs": [],
   "source": [
    "df_uniform_1pos = experiment(signal_fn=lambda seq: seq[0]==\"A\",  mutagenesis_weights=get_multi_position_skewed_a_weights([25, 25, 25, 25, 25]))\n",
    "df_mutagenesis_1pos = experiment(signal_fn=lambda seq: seq[0]==\"A\", mutagenesis_weights=get_multi_position_skewed_a_weights([85, 25, 25, 25, 25]))\n",
    "\n",
    "df_uniform_2pos = experiment(signal_fn=lambda seq: seq[0:2]==\"AA\",  mutagenesis_weights=get_multi_position_skewed_a_weights([25, 25, 25, 25, 25]))\n",
    "df_mutagenesis_2pos = experiment(signal_fn=lambda seq: seq[0:2]==\"AA\", mutagenesis_weights=get_multi_position_skewed_a_weights([85, 85, 25, 25, 25]))\n",
    "\n",
    "df_uniform_3pos = experiment(signal_fn=lambda seq: seq[0:3]==\"AAA\",  mutagenesis_weights=get_multi_position_skewed_a_weights([25, 25, 25, 25, 25]))\n",
    "df_mutagenesis_3pos = experiment(signal_fn=lambda seq: seq[0:3]==\"AAA\", mutagenesis_weights=get_multi_position_skewed_a_weights([85, 85, 85, 25, 25]))"
   ]
  },
  {
   "cell_type": "markdown",
   "id": "9ba10795",
   "metadata": {},
   "source": [
    "As an example, the tables for signal 'A-1' are printed to show what is inside. Each row in the table is one repetition of the experiment with a different random starting state. Thus, only the values of the 'metrics' are different. Weighted versions of the metrics have the prefix 'w_'.\n",
    "\n",
    "For the uniform table, metric == w_metric, because we used a uniform distribution for the simulatd mutagenesis\n",
    "i.e., P(sequence|uniform) == P(sequence|mutagenesis) and therefore sequences are weighted equally. \n",
    "\n",
    "The percentage_A column shows how amino acid 'A' was skewed in each of the 5 positions of the sequence (I could have shown percentage_B, C, D as well, but I am only using character A for the signal here). See how in the mutagenesis table, A in position 1 was set to 85%."
   ]
  },
  {
   "cell_type": "code",
   "execution_count": 57,
   "id": "f7d3fd7f",
   "metadata": {},
   "outputs": [
    {
     "name": "stdout",
     "output_type": "stream",
     "text": [
      "Uniform table:\n",
      "     percentage_A  prob_binding_if_signal  prob_binding_if_not_signal  \\\n",
      "0  25,25,25,25,25                     0.2                        0.02   \n",
      "0  25,25,25,25,25                     0.2                        0.02   \n",
      "0  25,25,25,25,25                     0.2                        0.02   \n",
      "0  25,25,25,25,25                     0.2                        0.02   \n",
      "0  25,25,25,25,25                     0.2                        0.02   \n",
      "\n",
      "   fraction_binders  fraction_predicted_binders  accuracy  w_accuracy  \\\n",
      "0            0.0622                      0.2486    0.7850      0.7850   \n",
      "0            0.0639                      0.2502    0.7863      0.7863   \n",
      "0            0.0660                      0.2603    0.7727      0.7727   \n",
      "0            0.0646                      0.2531    0.7837      0.7837   \n",
      "0            0.0679                      0.2556    0.7805      0.7805   \n",
      "\n",
      "   balanced_accuracy  w_balanced_accuracy  precision  w_precision  \\\n",
      "0           0.778042             0.778042   0.192679     0.192679   \n",
      "0           0.785975             0.785975   0.200639     0.200639   \n",
      "0           0.762152             0.762152   0.190165     0.190165   \n",
      "0           0.784226             0.784226   0.200316     0.200316   \n",
      "0           0.773700             0.773700   0.203443     0.203443   \n",
      "\n",
      "   recall/sensitivity  w_recall/sensitivity  specificity  w_specificity  \n",
      "0            0.770096              0.770096     0.785988       0.785988  \n",
      "0            0.785603              0.785603     0.786348       0.786348  \n",
      "0            0.750000              0.750000     0.774304       0.774304  \n",
      "0            0.784830              0.784830     0.783622       0.783622  \n",
      "0            0.765832              0.765832     0.781569       0.781569  \n",
      "\n",
      "\n",
      "Mutagenesis table:\n",
      "     percentage_A  prob_binding_if_signal  prob_binding_if_not_signal  \\\n",
      "0  85,25,25,25,25                     0.2                        0.02   \n",
      "0  85,25,25,25,25                     0.2                        0.02   \n",
      "0  85,25,25,25,25                     0.2                        0.02   \n",
      "0  85,25,25,25,25                     0.2                        0.02   \n",
      "0  85,25,25,25,25                     0.2                        0.02   \n",
      "\n",
      "   fraction_binders  fraction_predicted_binders  accuracy  w_accuracy  \\\n",
      "0            0.1721                      0.8573    0.3088    0.774854   \n",
      "0            0.1705                      0.8502    0.3137    0.782413   \n",
      "0            0.1731                      0.8463    0.3190    0.785095   \n",
      "0            0.1724                      0.8545    0.3135    0.783143   \n",
      "0            0.1750                      0.8546    0.3140    0.778379   \n",
      "\n",
      "   balanced_accuracy  w_balanced_accuracy  precision  w_precision  \\\n",
      "0           0.575654             0.771806   0.197247     0.197247   \n",
      "0           0.578629             0.766774   0.196660     0.196660   \n",
      "0           0.579314             0.754217   0.199929     0.199929   \n",
      "0           0.580195             0.800274   0.199181     0.199181   \n",
      "0           0.577039             0.769631   0.201030     0.201030   \n",
      "\n",
      "   recall/sensitivity  w_recall/sensitivity  specificity  w_specificity  \n",
      "0            0.982568              0.768287     0.168740       0.775326  \n",
      "0            0.980645              0.748768     0.176612       0.784780  \n",
      "0            0.977470              0.718471     0.181159       0.789962  \n",
      "0            0.987239              0.819846     0.173151       0.780701  \n",
      "0            0.981714              0.759505     0.172364       0.779756  \n"
     ]
    }
   ],
   "source": [
    "print(\"Uniform table:\")\n",
    "print(df_uniform_1pos)\n",
    "\n",
    "\n",
    "print(\"\\n\\nMutagenesis table:\")\n",
    "print(df_mutagenesis_1pos)"
   ]
  },
  {
   "cell_type": "markdown",
   "id": "ced518d1",
   "metadata": {},
   "source": [
    "Congratulations, you have arrived at the real point of this document!\n",
    "\n",
    "The figure below compares 3 values in each panel: \n",
    "- Uniform: the performance metric on a dataset with a uniform character distribution\n",
    "- Unweigthed: the performance metric on a dataset with a skewed character distribution (oversampled the signal of interest)\n",
    "- Weighted: a weighted version of the performance metric on the skewed dataset (exact same dataset as 'unweighted')\n",
    "\n",
    "The row and column facets respectively show different metrics and signals. "
   ]
  },
  {
   "cell_type": "code",
   "execution_count": 47,
   "id": "fcfd6c19",
   "metadata": {},
   "outputs": [
    {
     "data": {
      "application/vnd.plotly.v1+json": {
       "config": {
        "plotlyServerURL": "https://plot.ly"
       },
       "data": [
        {
         "alignmentgroup": "True",
         "boxpoints": "all",
         "fillcolor": "rgba(255,255,255,0)",
         "hoveron": "points",
         "hovertemplate": "metric=accuracy<br>signal=A-1<br>Experiment type=%{x}<br>Metric value=%{y}<extra></extra>",
         "legendgroup": "",
         "line": {
          "color": "rgba(255,255,255,0)"
         },
         "marker": {
          "color": "#636efa"
         },
         "name": "",
         "offsetgroup": "",
         "orientation": "v",
         "pointpos": 0,
         "showlegend": false,
         "type": "box",
         "x": [
          "uniform",
          "uniform",
          "uniform",
          "uniform",
          "uniform",
          "unweigthed",
          "unweigthed",
          "unweigthed",
          "unweigthed",
          "unweigthed",
          "weighted",
          "weighted",
          "weighted",
          "weighted",
          "weighted"
         ],
         "x0": " ",
         "xaxis": "x13",
         "y": [
          0.785,
          0.7863,
          0.7727,
          0.7837,
          0.7805,
          0.3088,
          0.3137,
          0.319,
          0.3135,
          0.314,
          0.7748538011695904,
          0.7824128591615639,
          0.7850948196114708,
          0.7831430288461538,
          0.7783790283790284
         ],
         "y0": " ",
         "yaxis": "y13"
        },
        {
         "alignmentgroup": "True",
         "boxpoints": "all",
         "fillcolor": "rgba(255,255,255,0)",
         "hoveron": "points",
         "hovertemplate": "metric=accuracy<br>signal=AA-1<br>Experiment type=%{x}<br>Metric value=%{y}<extra></extra>",
         "legendgroup": "",
         "line": {
          "color": "rgba(255,255,255,0)"
         },
         "marker": {
          "color": "#636efa"
         },
         "name": "",
         "offsetgroup": "",
         "orientation": "v",
         "pointpos": 0,
         "showlegend": false,
         "type": "box",
         "x": [
          "uniform",
          "uniform",
          "uniform",
          "uniform",
          "uniform",
          "unweigthed",
          "unweigthed",
          "unweigthed",
          "unweigthed",
          "unweigthed",
          "weighted",
          "weighted",
          "weighted",
          "weighted",
          "weighted"
         ],
         "x0": " ",
         "xaxis": "x14",
         "y": [
          0.9308,
          0.9335,
          0.9281,
          0.9317,
          0.9292,
          0.4107,
          0.4133,
          0.4134,
          0.4178,
          0.4158,
          0.9272245762711863,
          0.9246775391680173,
          0.9218442853131142,
          0.9257373833040183,
          0.9251726925338037
         ],
         "y0": " ",
         "yaxis": "y14"
        },
        {
         "alignmentgroup": "True",
         "boxpoints": "all",
         "fillcolor": "rgba(255,255,255,0)",
         "hoveron": "points",
         "hovertemplate": "metric=accuracy<br>signal=AAA-1<br>Experiment type=%{x}<br>Metric value=%{y}<extra></extra>",
         "legendgroup": "",
         "line": {
          "color": "rgba(255,255,255,0)"
         },
         "marker": {
          "color": "#636efa"
         },
         "name": "",
         "offsetgroup": "",
         "orientation": "v",
         "pointpos": 0,
         "showlegend": false,
         "type": "box",
         "x": [
          "uniform",
          "uniform",
          "uniform",
          "uniform",
          "uniform",
          "unweigthed",
          "unweigthed",
          "unweigthed",
          "unweigthed",
          "unweigthed",
          "weighted",
          "weighted",
          "weighted",
          "weighted",
          "weighted"
         ],
         "x0": " ",
         "xaxis": "x15",
         "y": [
          0.9683,
          0.9684,
          0.9647,
          0.9709,
          0.9665,
          0.5004,
          0.4992,
          0.5003,
          0.5014,
          0.5022,
          0.9694481451117034,
          0.9390077941358408,
          0.9696888297872339,
          0.9648456917978459,
          0.9547776582811187
         ],
         "y0": " ",
         "yaxis": "y15"
        },
        {
         "alignmentgroup": "True",
         "boxpoints": "all",
         "fillcolor": "rgba(255,255,255,0)",
         "hoveron": "points",
         "hovertemplate": "metric=balanced_accuracy<br>signal=A-1<br>Experiment type=%{x}<br>Metric value=%{y}<extra></extra>",
         "legendgroup": "",
         "line": {
          "color": "rgba(255,255,255,0)"
         },
         "marker": {
          "color": "#636efa"
         },
         "name": "",
         "offsetgroup": "",
         "orientation": "v",
         "pointpos": 0,
         "showlegend": false,
         "type": "box",
         "x": [
          "uniform",
          "uniform",
          "uniform",
          "uniform",
          "uniform",
          "unweigthed",
          "unweigthed",
          "unweigthed",
          "unweigthed",
          "unweigthed",
          "weighted",
          "weighted",
          "weighted",
          "weighted",
          "weighted"
         ],
         "x0": " ",
         "xaxis": "x10",
         "y": [
          0.7780424733538644,
          0.785975058173466,
          0.762152034261242,
          0.7842258506319377,
          0.7737003036360324,
          0.5756542301359775,
          0.5786287892045344,
          0.5793141073349691,
          0.580195129965158,
          0.577038961038961,
          0.7718063963464552,
          0.7667743420148946,
          0.754216591332239,
          0.8002735247864915,
          0.7696305038590063
         ],
         "y0": " ",
         "yaxis": "y10"
        },
        {
         "alignmentgroup": "True",
         "boxpoints": "all",
         "fillcolor": "rgba(255,255,255,0)",
         "hoveron": "points",
         "hovertemplate": "metric=balanced_accuracy<br>signal=AA-1<br>Experiment type=%{x}<br>Metric value=%{y}<extra></extra>",
         "legendgroup": "",
         "line": {
          "color": "rgba(255,255,255,0)"
         },
         "marker": {
          "color": "#636efa"
         },
         "name": "",
         "offsetgroup": "",
         "orientation": "v",
         "pointpos": 0,
         "showlegend": false,
         "type": "box",
         "x": [
          "uniform",
          "uniform",
          "uniform",
          "uniform",
          "uniform",
          "unweigthed",
          "unweigthed",
          "unweigthed",
          "unweigthed",
          "unweigthed",
          "weighted",
          "weighted",
          "weighted",
          "weighted",
          "weighted"
         ],
         "x0": " ",
         "xaxis": "x11",
         "y": [
          0.661963516970983,
          0.688694774031877,
          0.6501194463524792,
          0.6824736769599183,
          0.6707028924195418,
          0.6390037643637867,
          0.640910284055805,
          0.6358124205452449,
          0.6439328195792327,
          0.6397775059457632,
          0.6990627014009959,
          0.6299790904300604,
          0.6297642541481874,
          0.637679231633505,
          0.6630187516343302
         ],
         "y0": " ",
         "yaxis": "y11"
        },
        {
         "alignmentgroup": "True",
         "boxpoints": "all",
         "fillcolor": "rgba(255,255,255,0)",
         "hoveron": "points",
         "hovertemplate": "metric=balanced_accuracy<br>signal=AAA-1<br>Experiment type=%{x}<br>Metric value=%{y}<extra></extra>",
         "legendgroup": "",
         "line": {
          "color": "rgba(255,255,255,0)"
         },
         "marker": {
          "color": "#636efa"
         },
         "name": "",
         "offsetgroup": "",
         "orientation": "v",
         "pointpos": 0,
         "showlegend": false,
         "type": "box",
         "x": [
          "uniform",
          "uniform",
          "uniform",
          "uniform",
          "uniform",
          "unweigthed",
          "unweigthed",
          "unweigthed",
          "unweigthed",
          "unweigthed",
          "weighted",
          "weighted",
          "weighted",
          "weighted",
          "weighted"
         ],
         "x0": " ",
         "xaxis": "x12",
         "y": [
          0.5594673731176798,
          0.5602783159538954,
          0.565389598727422,
          0.5740903306148666,
          0.558348075489556,
          0.6866932057445354,
          0.6871282751083685,
          0.6821158365130697,
          0.6933902177578086,
          0.6880718974627604,
          0.5964263411456061,
          0.522599641473579,
          0.5709974443352428,
          0.5563923821251516,
          0.545593385766373
         ],
         "y0": " ",
         "yaxis": "y12"
        },
        {
         "alignmentgroup": "True",
         "boxpoints": "all",
         "fillcolor": "rgba(255,255,255,0)",
         "hoveron": "points",
         "hovertemplate": "metric=precision<br>signal=A-1<br>Experiment type=%{x}<br>Metric value=%{y}<extra></extra>",
         "legendgroup": "",
         "line": {
          "color": "rgba(255,255,255,0)"
         },
         "marker": {
          "color": "#636efa"
         },
         "name": "",
         "offsetgroup": "",
         "orientation": "v",
         "pointpos": 0,
         "showlegend": false,
         "type": "box",
         "x": [
          "uniform",
          "uniform",
          "uniform",
          "uniform",
          "uniform",
          "unweigthed",
          "unweigthed",
          "unweigthed",
          "unweigthed",
          "unweigthed",
          "weighted",
          "weighted",
          "weighted",
          "weighted",
          "weighted"
         ],
         "x0": " ",
         "xaxis": "x7",
         "y": [
          0.19267900241351568,
          0.2006394884092726,
          0.1901651940069151,
          0.20031608060055314,
          0.20344287949921752,
          0.19724717135191883,
          0.1966596095036462,
          0.1999291031549096,
          0.19918080748976008,
          0.20102972150713785,
          0.19724717135191458,
          0.19665960950364286,
          0.19992910315490686,
          0.19918080748975625,
          0.20102972150713402
         ],
         "y0": " ",
         "yaxis": "y7"
        },
        {
         "alignmentgroup": "True",
         "boxpoints": "all",
         "fillcolor": "rgba(255,255,255,0)",
         "hoveron": "points",
         "hovertemplate": "metric=precision<br>signal=AA-1<br>Experiment type=%{x}<br>Metric value=%{y}<extra></extra>",
         "legendgroup": "",
         "line": {
          "color": "rgba(255,255,255,0)"
         },
         "marker": {
          "color": "#636efa"
         },
         "name": "",
         "offsetgroup": "",
         "orientation": "v",
         "pointpos": 0,
         "showlegend": false,
         "type": "box",
         "x": [
          "uniform",
          "uniform",
          "uniform",
          "uniform",
          "uniform",
          "unweigthed",
          "unweigthed",
          "unweigthed",
          "unweigthed",
          "unweigthed",
          "weighted",
          "weighted",
          "weighted",
          "weighted",
          "weighted"
         ],
         "x0": " ",
         "xaxis": "x8",
         "y": [
          0.17932148626817448,
          0.21451612903225806,
          0.18269230769230768,
          0.19558359621451105,
          0.20376175548589343,
          0.1978021978021978,
          0.19456762749445677,
          0.1961437092523235,
          0.20141098353852538,
          0.2010223818734457,
          0.1978021978022032,
          0.19456762749446224,
          0.19614370925232896,
          0.20141098353853082,
          0.20102238187345112
         ],
         "y0": " ",
         "yaxis": "y8"
        },
        {
         "alignmentgroup": "True",
         "boxpoints": "all",
         "fillcolor": "rgba(255,255,255,0)",
         "hoveron": "points",
         "hovertemplate": "metric=precision<br>signal=AAA-1<br>Experiment type=%{x}<br>Metric value=%{y}<extra></extra>",
         "legendgroup": "",
         "line": {
          "color": "rgba(255,255,255,0)"
         },
         "marker": {
          "color": "#636efa"
         },
         "name": "",
         "offsetgroup": "",
         "orientation": "v",
         "pointpos": 0,
         "showlegend": false,
         "type": "box",
         "x": [
          "uniform",
          "uniform",
          "uniform",
          "uniform",
          "uniform",
          "unweigthed",
          "unweigthed",
          "unweigthed",
          "unweigthed",
          "unweigthed",
          "weighted",
          "weighted",
          "weighted",
          "weighted",
          "weighted"
         ],
         "x0": " ",
         "xaxis": "x9",
         "y": [
          0.1870967741935484,
          0.18471337579617833,
          0.21637426900584794,
          0.2328767123287671,
          0.1962025316455696,
          0.19895714518494378,
          0.1912729658792651,
          0.19583401672953912,
          0.20191216982660834,
          0.20376990575235618,
          0.1989571451849355,
          0.19127296587925768,
          0.1958340167295315,
          0.20191216982659949,
          0.2037699057523475
         ],
         "y0": " ",
         "yaxis": "y9"
        },
        {
         "alignmentgroup": "True",
         "boxpoints": "all",
         "fillcolor": "rgba(255,255,255,0)",
         "hoveron": "points",
         "hovertemplate": "metric=recall/sensitivity<br>signal=A-1<br>Experiment type=%{x}<br>Metric value=%{y}<extra></extra>",
         "legendgroup": "",
         "line": {
          "color": "rgba(255,255,255,0)"
         },
         "marker": {
          "color": "#636efa"
         },
         "name": "",
         "offsetgroup": "",
         "orientation": "v",
         "pointpos": 0,
         "showlegend": false,
         "type": "box",
         "x": [
          "uniform",
          "uniform",
          "uniform",
          "uniform",
          "uniform",
          "unweigthed",
          "unweigthed",
          "unweigthed",
          "unweigthed",
          "unweigthed",
          "weighted",
          "weighted",
          "weighted",
          "weighted",
          "weighted"
         ],
         "x0": " ",
         "xaxis": "x4",
         "y": [
          0.770096463022508,
          0.7856025039123631,
          0.75,
          0.7848297213622291,
          0.7658321060382917,
          0.9825682742591516,
          0.9806451612903225,
          0.9774696707105719,
          0.9872389791183295,
          0.9817142857142858,
          0.7682871422081091,
          0.7487684729064265,
          0.7184713375796445,
          0.8198458574181311,
          0.7595048629531607
         ],
         "y0": " ",
         "yaxis": "y4"
        },
        {
         "alignmentgroup": "True",
         "boxpoints": "all",
         "fillcolor": "rgba(255,255,255,0)",
         "hoveron": "points",
         "hovertemplate": "metric=recall/sensitivity<br>signal=AA-1<br>Experiment type=%{x}<br>Metric value=%{y}<extra></extra>",
         "legendgroup": "",
         "line": {
          "color": "rgba(255,255,255,0)"
         },
         "marker": {
          "color": "#636efa"
         },
         "name": "",
         "offsetgroup": "",
         "orientation": "v",
         "pointpos": 0,
         "showlegend": false,
         "type": "box",
         "x": [
          "uniform",
          "uniform",
          "uniform",
          "uniform",
          "uniform",
          "unweigthed",
          "unweigthed",
          "unweigthed",
          "unweigthed",
          "unweigthed",
          "weighted",
          "weighted",
          "weighted",
          "weighted",
          "weighted"
         ],
         "x0": " ",
         "xaxis": "x5",
         "y": [
          0.376271186440678,
          0.42765273311897106,
          0.35294117647058826,
          0.4175084175084175,
          0.3939393939393939,
          0.9645010046885466,
          0.9623029472241261,
          0.9521885521885521,
          0.9674418604651163,
          0.9610303830911493,
          0.4561292366170385,
          0.31096345514949847,
          0.3124861878452998,
          0.3260918253079472,
          0.381089575694078
         ],
         "y0": " ",
         "yaxis": "y5"
        },
        {
         "alignmentgroup": "True",
         "boxpoints": "all",
         "fillcolor": "rgba(255,255,255,0)",
         "hoveron": "points",
         "hovertemplate": "metric=recall/sensitivity<br>signal=AAA-1<br>Experiment type=%{x}<br>Metric value=%{y}<extra></extra>",
         "legendgroup": "",
         "line": {
          "color": "rgba(255,255,255,0)"
         },
         "marker": {
          "color": "#636efa"
         },
         "name": "",
         "offsetgroup": "",
         "orientation": "v",
         "pointpos": 0,
         "showlegend": false,
         "type": "box",
         "x": [
          "uniform",
          "uniform",
          "uniform",
          "uniform",
          "uniform",
          "unweigthed",
          "unweigthed",
          "unweigthed",
          "unweigthed",
          "unweigthed",
          "weighted",
          "weighted",
          "weighted",
          "weighted",
          "weighted"
         ],
         "x0": " ",
         "xaxis": "x6",
         "y": [
          0.1318181818181818,
          0.1336405529953917,
          0.14453125,
          0.1596244131455399,
          0.1297071129707113,
          0.9385088393543428,
          0.9372990353697749,
          0.9270186335403726,
          0.9533282325937261,
          0.9414414414414415,
          0.20889649272882488,
          0.05859296482412158,
          0.1553069719042615,
          0.12587130013132442,
          0.10601961447412812
         ],
         "y0": " ",
         "yaxis": "y6"
        },
        {
         "alignmentgroup": "True",
         "boxpoints": "all",
         "fillcolor": "rgba(255,255,255,0)",
         "hoveron": "points",
         "hovertemplate": "metric=specificity<br>signal=A-1<br>Experiment type=%{x}<br>Metric value=%{y}<extra></extra>",
         "legendgroup": "",
         "line": {
          "color": "rgba(255,255,255,0)"
         },
         "marker": {
          "color": "#636efa"
         },
         "name": "",
         "offsetgroup": "",
         "orientation": "v",
         "pointpos": 0,
         "showlegend": false,
         "type": "box",
         "x": [
          "uniform",
          "uniform",
          "uniform",
          "uniform",
          "uniform",
          "unweigthed",
          "unweigthed",
          "unweigthed",
          "unweigthed",
          "unweigthed",
          "weighted",
          "weighted",
          "weighted",
          "weighted",
          "weighted"
         ],
         "x0": " ",
         "xaxis": "x",
         "y": [
          0.7859884836852208,
          0.786347612434569,
          0.7743040685224839,
          0.7836219799016464,
          0.7815685012337732,
          0.16874018601280347,
          0.17661241711874623,
          0.1811585439593663,
          0.17315128081198647,
          0.17236363636363636,
          0.7753256504848194,
          0.7847802111233697,
          0.7899618450848356,
          0.7807011921548594,
          0.7797561447648685
         ],
         "y0": " ",
         "yaxis": "y"
        },
        {
         "alignmentgroup": "True",
         "boxpoints": "all",
         "fillcolor": "rgba(255,255,255,0)",
         "hoveron": "points",
         "hovertemplate": "metric=specificity<br>signal=AA-1<br>Experiment type=%{x}<br>Metric value=%{y}<extra></extra>",
         "legendgroup": "",
         "line": {
          "color": "rgba(255,255,255,0)"
         },
         "marker": {
          "color": "#636efa"
         },
         "name": "",
         "offsetgroup": "",
         "orientation": "v",
         "pointpos": 0,
         "showlegend": false,
         "type": "box",
         "x": [
          "uniform",
          "uniform",
          "uniform",
          "uniform",
          "uniform",
          "unweigthed",
          "unweigthed",
          "unweigthed",
          "unweigthed",
          "unweigthed",
          "weighted",
          "weighted",
          "weighted",
          "weighted",
          "weighted"
         ],
         "x0": " ",
         "xaxis": "x2",
         "y": [
          0.947655847501288,
          0.9497368149447828,
          0.9472977162343702,
          0.9474389364114192,
          0.9474663908996898,
          0.3135065240390267,
          0.3195176208874839,
          0.31943628890193776,
          0.32042377869334904,
          0.3185246288003771,
          0.9419961661850444,
          0.948994725710724,
          0.9470423204511703,
          0.9492666379591532,
          0.9449479275746734
         ],
         "y0": " ",
         "yaxis": "y2"
        },
        {
         "alignmentgroup": "True",
         "boxpoints": "all",
         "fillcolor": "rgba(255,255,255,0)",
         "hoveron": "points",
         "hovertemplate": "metric=specificity<br>signal=AAA-1<br>Experiment type=%{x}<br>Metric value=%{y}<extra></extra>",
         "legendgroup": "",
         "line": {
          "color": "rgba(255,255,255,0)"
         },
         "marker": {
          "color": "#636efa"
         },
         "name": "",
         "offsetgroup": "",
         "orientation": "v",
         "pointpos": 0,
         "showlegend": false,
         "type": "box",
         "x": [
          "uniform",
          "uniform",
          "uniform",
          "uniform",
          "uniform",
          "unweigthed",
          "unweigthed",
          "unweigthed",
          "unweigthed",
          "unweigthed",
          "weighted",
          "weighted",
          "weighted",
          "weighted",
          "weighted"
         ],
         "x0": " ",
         "xaxis": "x3",
         "y": [
          0.9871165644171779,
          0.9869160789123991,
          0.986247947454844,
          0.9885562480841933,
          0.9869890380084008,
          0.4348775721347281,
          0.4369575148469621,
          0.4372130394857668,
          0.4334522029218912,
          0.4347023534840794,
          0.9839561895622938,
          0.9866063181229906,
          0.9866879167661713,
          0.9869134641189411,
          0.9851671570585412
         ],
         "y0": " ",
         "yaxis": "y3"
        }
       ],
       "layout": {
        "annotations": [
         {
          "font": {},
          "showarrow": false,
          "text": "signal=A-1",
          "x": 0.15666666666666665,
          "xanchor": "center",
          "xref": "paper",
          "y": 1,
          "yanchor": "bottom",
          "yref": "paper"
         },
         {
          "font": {},
          "showarrow": false,
          "text": "signal=AA-1",
          "x": 0.49,
          "xanchor": "center",
          "xref": "paper",
          "y": 1,
          "yanchor": "bottom",
          "yref": "paper"
         },
         {
          "font": {},
          "showarrow": false,
          "text": "signal=AAA-1",
          "x": 0.8233333333333333,
          "xanchor": "center",
          "xref": "paper",
          "y": 1,
          "yanchor": "bottom",
          "yref": "paper"
         },
         {
          "font": {},
          "showarrow": false,
          "text": "metric=specificity",
          "textangle": 90,
          "x": 0.98,
          "xanchor": "left",
          "xref": "paper",
          "y": 0.08800000000000001,
          "yanchor": "middle",
          "yref": "paper"
         },
         {
          "font": {},
          "showarrow": false,
          "text": "metric=recall/sensitivity",
          "textangle": 90,
          "x": 0.98,
          "xanchor": "left",
          "xref": "paper",
          "y": 0.29400000000000004,
          "yanchor": "middle",
          "yref": "paper"
         },
         {
          "font": {},
          "showarrow": false,
          "text": "metric=precision",
          "textangle": 90,
          "x": 0.98,
          "xanchor": "left",
          "xref": "paper",
          "y": 0.5,
          "yanchor": "middle",
          "yref": "paper"
         },
         {
          "font": {},
          "showarrow": false,
          "text": "metric=balanced_accuracy",
          "textangle": 90,
          "x": 0.98,
          "xanchor": "left",
          "xref": "paper",
          "y": 0.706,
          "yanchor": "middle",
          "yref": "paper"
         },
         {
          "font": {},
          "showarrow": false,
          "text": "metric=accuracy",
          "textangle": 90,
          "x": 0.98,
          "xanchor": "left",
          "xref": "paper",
          "y": 0.912,
          "yanchor": "middle",
          "yref": "paper"
         }
        ],
        "autosize": false,
        "boxmode": "overlay",
        "height": 1000,
        "legend": {
         "tracegroupgap": 0
        },
        "margin": {
         "t": 60
        },
        "template": {
         "data": {
          "bar": [
           {
            "error_x": {
             "color": "#2a3f5f"
            },
            "error_y": {
             "color": "#2a3f5f"
            },
            "marker": {
             "line": {
              "color": "#E5ECF6",
              "width": 0.5
             },
             "pattern": {
              "fillmode": "overlay",
              "size": 10,
              "solidity": 0.2
             }
            },
            "type": "bar"
           }
          ],
          "barpolar": [
           {
            "marker": {
             "line": {
              "color": "#E5ECF6",
              "width": 0.5
             },
             "pattern": {
              "fillmode": "overlay",
              "size": 10,
              "solidity": 0.2
             }
            },
            "type": "barpolar"
           }
          ],
          "carpet": [
           {
            "aaxis": {
             "endlinecolor": "#2a3f5f",
             "gridcolor": "white",
             "linecolor": "white",
             "minorgridcolor": "white",
             "startlinecolor": "#2a3f5f"
            },
            "baxis": {
             "endlinecolor": "#2a3f5f",
             "gridcolor": "white",
             "linecolor": "white",
             "minorgridcolor": "white",
             "startlinecolor": "#2a3f5f"
            },
            "type": "carpet"
           }
          ],
          "choropleth": [
           {
            "colorbar": {
             "outlinewidth": 0,
             "ticks": ""
            },
            "type": "choropleth"
           }
          ],
          "contour": [
           {
            "colorbar": {
             "outlinewidth": 0,
             "ticks": ""
            },
            "colorscale": [
             [
              0,
              "#0d0887"
             ],
             [
              0.1111111111111111,
              "#46039f"
             ],
             [
              0.2222222222222222,
              "#7201a8"
             ],
             [
              0.3333333333333333,
              "#9c179e"
             ],
             [
              0.4444444444444444,
              "#bd3786"
             ],
             [
              0.5555555555555556,
              "#d8576b"
             ],
             [
              0.6666666666666666,
              "#ed7953"
             ],
             [
              0.7777777777777778,
              "#fb9f3a"
             ],
             [
              0.8888888888888888,
              "#fdca26"
             ],
             [
              1,
              "#f0f921"
             ]
            ],
            "type": "contour"
           }
          ],
          "contourcarpet": [
           {
            "colorbar": {
             "outlinewidth": 0,
             "ticks": ""
            },
            "type": "contourcarpet"
           }
          ],
          "heatmap": [
           {
            "colorbar": {
             "outlinewidth": 0,
             "ticks": ""
            },
            "colorscale": [
             [
              0,
              "#0d0887"
             ],
             [
              0.1111111111111111,
              "#46039f"
             ],
             [
              0.2222222222222222,
              "#7201a8"
             ],
             [
              0.3333333333333333,
              "#9c179e"
             ],
             [
              0.4444444444444444,
              "#bd3786"
             ],
             [
              0.5555555555555556,
              "#d8576b"
             ],
             [
              0.6666666666666666,
              "#ed7953"
             ],
             [
              0.7777777777777778,
              "#fb9f3a"
             ],
             [
              0.8888888888888888,
              "#fdca26"
             ],
             [
              1,
              "#f0f921"
             ]
            ],
            "type": "heatmap"
           }
          ],
          "heatmapgl": [
           {
            "colorbar": {
             "outlinewidth": 0,
             "ticks": ""
            },
            "colorscale": [
             [
              0,
              "#0d0887"
             ],
             [
              0.1111111111111111,
              "#46039f"
             ],
             [
              0.2222222222222222,
              "#7201a8"
             ],
             [
              0.3333333333333333,
              "#9c179e"
             ],
             [
              0.4444444444444444,
              "#bd3786"
             ],
             [
              0.5555555555555556,
              "#d8576b"
             ],
             [
              0.6666666666666666,
              "#ed7953"
             ],
             [
              0.7777777777777778,
              "#fb9f3a"
             ],
             [
              0.8888888888888888,
              "#fdca26"
             ],
             [
              1,
              "#f0f921"
             ]
            ],
            "type": "heatmapgl"
           }
          ],
          "histogram": [
           {
            "marker": {
             "pattern": {
              "fillmode": "overlay",
              "size": 10,
              "solidity": 0.2
             }
            },
            "type": "histogram"
           }
          ],
          "histogram2d": [
           {
            "colorbar": {
             "outlinewidth": 0,
             "ticks": ""
            },
            "colorscale": [
             [
              0,
              "#0d0887"
             ],
             [
              0.1111111111111111,
              "#46039f"
             ],
             [
              0.2222222222222222,
              "#7201a8"
             ],
             [
              0.3333333333333333,
              "#9c179e"
             ],
             [
              0.4444444444444444,
              "#bd3786"
             ],
             [
              0.5555555555555556,
              "#d8576b"
             ],
             [
              0.6666666666666666,
              "#ed7953"
             ],
             [
              0.7777777777777778,
              "#fb9f3a"
             ],
             [
              0.8888888888888888,
              "#fdca26"
             ],
             [
              1,
              "#f0f921"
             ]
            ],
            "type": "histogram2d"
           }
          ],
          "histogram2dcontour": [
           {
            "colorbar": {
             "outlinewidth": 0,
             "ticks": ""
            },
            "colorscale": [
             [
              0,
              "#0d0887"
             ],
             [
              0.1111111111111111,
              "#46039f"
             ],
             [
              0.2222222222222222,
              "#7201a8"
             ],
             [
              0.3333333333333333,
              "#9c179e"
             ],
             [
              0.4444444444444444,
              "#bd3786"
             ],
             [
              0.5555555555555556,
              "#d8576b"
             ],
             [
              0.6666666666666666,
              "#ed7953"
             ],
             [
              0.7777777777777778,
              "#fb9f3a"
             ],
             [
              0.8888888888888888,
              "#fdca26"
             ],
             [
              1,
              "#f0f921"
             ]
            ],
            "type": "histogram2dcontour"
           }
          ],
          "mesh3d": [
           {
            "colorbar": {
             "outlinewidth": 0,
             "ticks": ""
            },
            "type": "mesh3d"
           }
          ],
          "parcoords": [
           {
            "line": {
             "colorbar": {
              "outlinewidth": 0,
              "ticks": ""
             }
            },
            "type": "parcoords"
           }
          ],
          "pie": [
           {
            "automargin": true,
            "type": "pie"
           }
          ],
          "scatter": [
           {
            "marker": {
             "colorbar": {
              "outlinewidth": 0,
              "ticks": ""
             }
            },
            "type": "scatter"
           }
          ],
          "scatter3d": [
           {
            "line": {
             "colorbar": {
              "outlinewidth": 0,
              "ticks": ""
             }
            },
            "marker": {
             "colorbar": {
              "outlinewidth": 0,
              "ticks": ""
             }
            },
            "type": "scatter3d"
           }
          ],
          "scattercarpet": [
           {
            "marker": {
             "colorbar": {
              "outlinewidth": 0,
              "ticks": ""
             }
            },
            "type": "scattercarpet"
           }
          ],
          "scattergeo": [
           {
            "marker": {
             "colorbar": {
              "outlinewidth": 0,
              "ticks": ""
             }
            },
            "type": "scattergeo"
           }
          ],
          "scattergl": [
           {
            "marker": {
             "colorbar": {
              "outlinewidth": 0,
              "ticks": ""
             }
            },
            "type": "scattergl"
           }
          ],
          "scattermapbox": [
           {
            "marker": {
             "colorbar": {
              "outlinewidth": 0,
              "ticks": ""
             }
            },
            "type": "scattermapbox"
           }
          ],
          "scatterpolar": [
           {
            "marker": {
             "colorbar": {
              "outlinewidth": 0,
              "ticks": ""
             }
            },
            "type": "scatterpolar"
           }
          ],
          "scatterpolargl": [
           {
            "marker": {
             "colorbar": {
              "outlinewidth": 0,
              "ticks": ""
             }
            },
            "type": "scatterpolargl"
           }
          ],
          "scatterternary": [
           {
            "marker": {
             "colorbar": {
              "outlinewidth": 0,
              "ticks": ""
             }
            },
            "type": "scatterternary"
           }
          ],
          "surface": [
           {
            "colorbar": {
             "outlinewidth": 0,
             "ticks": ""
            },
            "colorscale": [
             [
              0,
              "#0d0887"
             ],
             [
              0.1111111111111111,
              "#46039f"
             ],
             [
              0.2222222222222222,
              "#7201a8"
             ],
             [
              0.3333333333333333,
              "#9c179e"
             ],
             [
              0.4444444444444444,
              "#bd3786"
             ],
             [
              0.5555555555555556,
              "#d8576b"
             ],
             [
              0.6666666666666666,
              "#ed7953"
             ],
             [
              0.7777777777777778,
              "#fb9f3a"
             ],
             [
              0.8888888888888888,
              "#fdca26"
             ],
             [
              1,
              "#f0f921"
             ]
            ],
            "type": "surface"
           }
          ],
          "table": [
           {
            "cells": {
             "fill": {
              "color": "#EBF0F8"
             },
             "line": {
              "color": "white"
             }
            },
            "header": {
             "fill": {
              "color": "#C8D4E3"
             },
             "line": {
              "color": "white"
             }
            },
            "type": "table"
           }
          ]
         },
         "layout": {
          "annotationdefaults": {
           "arrowcolor": "#2a3f5f",
           "arrowhead": 0,
           "arrowwidth": 1
          },
          "autotypenumbers": "strict",
          "coloraxis": {
           "colorbar": {
            "outlinewidth": 0,
            "ticks": ""
           }
          },
          "colorscale": {
           "diverging": [
            [
             0,
             "#8e0152"
            ],
            [
             0.1,
             "#c51b7d"
            ],
            [
             0.2,
             "#de77ae"
            ],
            [
             0.3,
             "#f1b6da"
            ],
            [
             0.4,
             "#fde0ef"
            ],
            [
             0.5,
             "#f7f7f7"
            ],
            [
             0.6,
             "#e6f5d0"
            ],
            [
             0.7,
             "#b8e186"
            ],
            [
             0.8,
             "#7fbc41"
            ],
            [
             0.9,
             "#4d9221"
            ],
            [
             1,
             "#276419"
            ]
           ],
           "sequential": [
            [
             0,
             "#0d0887"
            ],
            [
             0.1111111111111111,
             "#46039f"
            ],
            [
             0.2222222222222222,
             "#7201a8"
            ],
            [
             0.3333333333333333,
             "#9c179e"
            ],
            [
             0.4444444444444444,
             "#bd3786"
            ],
            [
             0.5555555555555556,
             "#d8576b"
            ],
            [
             0.6666666666666666,
             "#ed7953"
            ],
            [
             0.7777777777777778,
             "#fb9f3a"
            ],
            [
             0.8888888888888888,
             "#fdca26"
            ],
            [
             1,
             "#f0f921"
            ]
           ],
           "sequentialminus": [
            [
             0,
             "#0d0887"
            ],
            [
             0.1111111111111111,
             "#46039f"
            ],
            [
             0.2222222222222222,
             "#7201a8"
            ],
            [
             0.3333333333333333,
             "#9c179e"
            ],
            [
             0.4444444444444444,
             "#bd3786"
            ],
            [
             0.5555555555555556,
             "#d8576b"
            ],
            [
             0.6666666666666666,
             "#ed7953"
            ],
            [
             0.7777777777777778,
             "#fb9f3a"
            ],
            [
             0.8888888888888888,
             "#fdca26"
            ],
            [
             1,
             "#f0f921"
            ]
           ]
          },
          "colorway": [
           "#636efa",
           "#EF553B",
           "#00cc96",
           "#ab63fa",
           "#FFA15A",
           "#19d3f3",
           "#FF6692",
           "#B6E880",
           "#FF97FF",
           "#FECB52"
          ],
          "font": {
           "color": "#2a3f5f"
          },
          "geo": {
           "bgcolor": "white",
           "lakecolor": "white",
           "landcolor": "#E5ECF6",
           "showlakes": true,
           "showland": true,
           "subunitcolor": "white"
          },
          "hoverlabel": {
           "align": "left"
          },
          "hovermode": "closest",
          "mapbox": {
           "style": "light"
          },
          "paper_bgcolor": "white",
          "plot_bgcolor": "#E5ECF6",
          "polar": {
           "angularaxis": {
            "gridcolor": "white",
            "linecolor": "white",
            "ticks": ""
           },
           "bgcolor": "#E5ECF6",
           "radialaxis": {
            "gridcolor": "white",
            "linecolor": "white",
            "ticks": ""
           }
          },
          "scene": {
           "xaxis": {
            "backgroundcolor": "#E5ECF6",
            "gridcolor": "white",
            "gridwidth": 2,
            "linecolor": "white",
            "showbackground": true,
            "ticks": "",
            "zerolinecolor": "white"
           },
           "yaxis": {
            "backgroundcolor": "#E5ECF6",
            "gridcolor": "white",
            "gridwidth": 2,
            "linecolor": "white",
            "showbackground": true,
            "ticks": "",
            "zerolinecolor": "white"
           },
           "zaxis": {
            "backgroundcolor": "#E5ECF6",
            "gridcolor": "white",
            "gridwidth": 2,
            "linecolor": "white",
            "showbackground": true,
            "ticks": "",
            "zerolinecolor": "white"
           }
          },
          "shapedefaults": {
           "line": {
            "color": "#2a3f5f"
           }
          },
          "ternary": {
           "aaxis": {
            "gridcolor": "white",
            "linecolor": "white",
            "ticks": ""
           },
           "baxis": {
            "gridcolor": "white",
            "linecolor": "white",
            "ticks": ""
           },
           "bgcolor": "#E5ECF6",
           "caxis": {
            "gridcolor": "white",
            "linecolor": "white",
            "ticks": ""
           }
          },
          "title": {
           "x": 0.05
          },
          "xaxis": {
           "automargin": true,
           "gridcolor": "white",
           "linecolor": "white",
           "ticks": "",
           "title": {
            "standoff": 15
           },
           "zerolinecolor": "white",
           "zerolinewidth": 2
          },
          "yaxis": {
           "automargin": true,
           "gridcolor": "white",
           "linecolor": "white",
           "ticks": "",
           "title": {
            "standoff": 15
           },
           "zerolinecolor": "white",
           "zerolinewidth": 2
          }
         }
        },
        "width": 1000,
        "xaxis": {
         "anchor": "y",
         "domain": [
          0,
          0.3133333333333333
         ],
         "title": {
          "text": "Experiment type"
         }
        },
        "xaxis10": {
         "anchor": "y10",
         "domain": [
          0,
          0.3133333333333333
         ],
         "matches": "x",
         "showticklabels": false
        },
        "xaxis11": {
         "anchor": "y11",
         "domain": [
          0.3333333333333333,
          0.6466666666666666
         ],
         "matches": "x",
         "showticklabels": false
        },
        "xaxis12": {
         "anchor": "y12",
         "domain": [
          0.6666666666666666,
          0.98
         ],
         "matches": "x",
         "showticklabels": false
        },
        "xaxis13": {
         "anchor": "y13",
         "domain": [
          0,
          0.3133333333333333
         ],
         "matches": "x",
         "showticklabels": false
        },
        "xaxis14": {
         "anchor": "y14",
         "domain": [
          0.3333333333333333,
          0.6466666666666666
         ],
         "matches": "x",
         "showticklabels": false
        },
        "xaxis15": {
         "anchor": "y15",
         "domain": [
          0.6666666666666666,
          0.98
         ],
         "matches": "x",
         "showticklabels": false
        },
        "xaxis2": {
         "anchor": "y2",
         "domain": [
          0.3333333333333333,
          0.6466666666666666
         ],
         "matches": "x",
         "title": {
          "text": "Experiment type"
         }
        },
        "xaxis3": {
         "anchor": "y3",
         "domain": [
          0.6666666666666666,
          0.98
         ],
         "matches": "x",
         "title": {
          "text": "Experiment type"
         }
        },
        "xaxis4": {
         "anchor": "y4",
         "domain": [
          0,
          0.3133333333333333
         ],
         "matches": "x",
         "showticklabels": false
        },
        "xaxis5": {
         "anchor": "y5",
         "domain": [
          0.3333333333333333,
          0.6466666666666666
         ],
         "matches": "x",
         "showticklabels": false
        },
        "xaxis6": {
         "anchor": "y6",
         "domain": [
          0.6666666666666666,
          0.98
         ],
         "matches": "x",
         "showticklabels": false
        },
        "xaxis7": {
         "anchor": "y7",
         "domain": [
          0,
          0.3133333333333333
         ],
         "matches": "x",
         "showticklabels": false
        },
        "xaxis8": {
         "anchor": "y8",
         "domain": [
          0.3333333333333333,
          0.6466666666666666
         ],
         "matches": "x",
         "showticklabels": false
        },
        "xaxis9": {
         "anchor": "y9",
         "domain": [
          0.6666666666666666,
          0.98
         ],
         "matches": "x",
         "showticklabels": false
        },
        "yaxis": {
         "anchor": "x",
         "domain": [
          0,
          0.17600000000000002
         ],
         "title": {
          "text": "Metric value"
         }
        },
        "yaxis10": {
         "anchor": "x10",
         "domain": [
          0.618,
          0.794
         ],
         "matches": "y",
         "title": {
          "text": "Metric value"
         }
        },
        "yaxis11": {
         "anchor": "x11",
         "domain": [
          0.618,
          0.794
         ],
         "matches": "y",
         "showticklabels": false
        },
        "yaxis12": {
         "anchor": "x12",
         "domain": [
          0.618,
          0.794
         ],
         "matches": "y",
         "showticklabels": false
        },
        "yaxis13": {
         "anchor": "x13",
         "domain": [
          0.8240000000000001,
          1
         ],
         "matches": "y",
         "title": {
          "text": "Metric value"
         }
        },
        "yaxis14": {
         "anchor": "x14",
         "domain": [
          0.8240000000000001,
          1
         ],
         "matches": "y",
         "showticklabels": false
        },
        "yaxis15": {
         "anchor": "x15",
         "domain": [
          0.8240000000000001,
          1
         ],
         "matches": "y",
         "showticklabels": false
        },
        "yaxis2": {
         "anchor": "x2",
         "domain": [
          0,
          0.17600000000000002
         ],
         "matches": "y",
         "showticklabels": false
        },
        "yaxis3": {
         "anchor": "x3",
         "domain": [
          0,
          0.17600000000000002
         ],
         "matches": "y",
         "showticklabels": false
        },
        "yaxis4": {
         "anchor": "x4",
         "domain": [
          0.20600000000000002,
          0.382
         ],
         "matches": "y",
         "title": {
          "text": "Metric value"
         }
        },
        "yaxis5": {
         "anchor": "x5",
         "domain": [
          0.20600000000000002,
          0.382
         ],
         "matches": "y",
         "showticklabels": false
        },
        "yaxis6": {
         "anchor": "x6",
         "domain": [
          0.20600000000000002,
          0.382
         ],
         "matches": "y",
         "showticklabels": false
        },
        "yaxis7": {
         "anchor": "x7",
         "domain": [
          0.41200000000000003,
          0.5880000000000001
         ],
         "matches": "y",
         "title": {
          "text": "Metric value"
         }
        },
        "yaxis8": {
         "anchor": "x8",
         "domain": [
          0.41200000000000003,
          0.5880000000000001
         ],
         "matches": "y",
         "showticklabels": false
        },
        "yaxis9": {
         "anchor": "x9",
         "domain": [
          0.41200000000000003,
          0.5880000000000001
         ],
         "matches": "y",
         "showticklabels": false
        }
       }
      },
      "text/html": [
       "<div>                            <div id=\"5b280129-033b-4628-bc53-c20ab0d3e9fe\" class=\"plotly-graph-div\" style=\"height:1000px; width:1000px;\"></div>            <script type=\"text/javascript\">                require([\"plotly\"], function(Plotly) {                    window.PLOTLYENV=window.PLOTLYENV || {};                                    if (document.getElementById(\"5b280129-033b-4628-bc53-c20ab0d3e9fe\")) {                    Plotly.newPlot(                        \"5b280129-033b-4628-bc53-c20ab0d3e9fe\",                        [{\"alignmentgroup\":\"True\",\"boxpoints\":\"all\",\"fillcolor\":\"rgba(255,255,255,0)\",\"hoveron\":\"points\",\"hovertemplate\":\"metric=accuracy<br>signal=A-1<br>Experiment type=%{x}<br>Metric value=%{y}<extra></extra>\",\"legendgroup\":\"\",\"line\":{\"color\":\"rgba(255,255,255,0)\"},\"marker\":{\"color\":\"#636efa\"},\"name\":\"\",\"offsetgroup\":\"\",\"orientation\":\"v\",\"pointpos\":0,\"showlegend\":false,\"x\":[\"uniform\",\"uniform\",\"uniform\",\"uniform\",\"uniform\",\"unweigthed\",\"unweigthed\",\"unweigthed\",\"unweigthed\",\"unweigthed\",\"weighted\",\"weighted\",\"weighted\",\"weighted\",\"weighted\"],\"x0\":\" \",\"xaxis\":\"x13\",\"y\":[0.785,0.7863,0.7727,0.7837,0.7805,0.3088,0.3137,0.319,0.3135,0.314,0.7748538011695904,0.7824128591615639,0.7850948196114708,0.7831430288461538,0.7783790283790284],\"y0\":\" \",\"yaxis\":\"y13\",\"type\":\"box\"},{\"alignmentgroup\":\"True\",\"boxpoints\":\"all\",\"fillcolor\":\"rgba(255,255,255,0)\",\"hoveron\":\"points\",\"hovertemplate\":\"metric=accuracy<br>signal=AA-1<br>Experiment type=%{x}<br>Metric value=%{y}<extra></extra>\",\"legendgroup\":\"\",\"line\":{\"color\":\"rgba(255,255,255,0)\"},\"marker\":{\"color\":\"#636efa\"},\"name\":\"\",\"offsetgroup\":\"\",\"orientation\":\"v\",\"pointpos\":0,\"showlegend\":false,\"x\":[\"uniform\",\"uniform\",\"uniform\",\"uniform\",\"uniform\",\"unweigthed\",\"unweigthed\",\"unweigthed\",\"unweigthed\",\"unweigthed\",\"weighted\",\"weighted\",\"weighted\",\"weighted\",\"weighted\"],\"x0\":\" \",\"xaxis\":\"x14\",\"y\":[0.9308,0.9335,0.9281,0.9317,0.9292,0.4107,0.4133,0.4134,0.4178,0.4158,0.9272245762711863,0.9246775391680173,0.9218442853131142,0.9257373833040183,0.9251726925338037],\"y0\":\" \",\"yaxis\":\"y14\",\"type\":\"box\"},{\"alignmentgroup\":\"True\",\"boxpoints\":\"all\",\"fillcolor\":\"rgba(255,255,255,0)\",\"hoveron\":\"points\",\"hovertemplate\":\"metric=accuracy<br>signal=AAA-1<br>Experiment type=%{x}<br>Metric value=%{y}<extra></extra>\",\"legendgroup\":\"\",\"line\":{\"color\":\"rgba(255,255,255,0)\"},\"marker\":{\"color\":\"#636efa\"},\"name\":\"\",\"offsetgroup\":\"\",\"orientation\":\"v\",\"pointpos\":0,\"showlegend\":false,\"x\":[\"uniform\",\"uniform\",\"uniform\",\"uniform\",\"uniform\",\"unweigthed\",\"unweigthed\",\"unweigthed\",\"unweigthed\",\"unweigthed\",\"weighted\",\"weighted\",\"weighted\",\"weighted\",\"weighted\"],\"x0\":\" \",\"xaxis\":\"x15\",\"y\":[0.9683,0.9684,0.9647,0.9709,0.9665,0.5004,0.4992,0.5003,0.5014,0.5022,0.9694481451117034,0.9390077941358408,0.9696888297872339,0.9648456917978459,0.9547776582811187],\"y0\":\" \",\"yaxis\":\"y15\",\"type\":\"box\"},{\"alignmentgroup\":\"True\",\"boxpoints\":\"all\",\"fillcolor\":\"rgba(255,255,255,0)\",\"hoveron\":\"points\",\"hovertemplate\":\"metric=balanced_accuracy<br>signal=A-1<br>Experiment type=%{x}<br>Metric value=%{y}<extra></extra>\",\"legendgroup\":\"\",\"line\":{\"color\":\"rgba(255,255,255,0)\"},\"marker\":{\"color\":\"#636efa\"},\"name\":\"\",\"offsetgroup\":\"\",\"orientation\":\"v\",\"pointpos\":0,\"showlegend\":false,\"x\":[\"uniform\",\"uniform\",\"uniform\",\"uniform\",\"uniform\",\"unweigthed\",\"unweigthed\",\"unweigthed\",\"unweigthed\",\"unweigthed\",\"weighted\",\"weighted\",\"weighted\",\"weighted\",\"weighted\"],\"x0\":\" \",\"xaxis\":\"x10\",\"y\":[0.7780424733538644,0.785975058173466,0.762152034261242,0.7842258506319377,0.7737003036360324,0.5756542301359775,0.5786287892045344,0.5793141073349691,0.580195129965158,0.577038961038961,0.7718063963464552,0.7667743420148946,0.754216591332239,0.8002735247864915,0.7696305038590063],\"y0\":\" \",\"yaxis\":\"y10\",\"type\":\"box\"},{\"alignmentgroup\":\"True\",\"boxpoints\":\"all\",\"fillcolor\":\"rgba(255,255,255,0)\",\"hoveron\":\"points\",\"hovertemplate\":\"metric=balanced_accuracy<br>signal=AA-1<br>Experiment type=%{x}<br>Metric value=%{y}<extra></extra>\",\"legendgroup\":\"\",\"line\":{\"color\":\"rgba(255,255,255,0)\"},\"marker\":{\"color\":\"#636efa\"},\"name\":\"\",\"offsetgroup\":\"\",\"orientation\":\"v\",\"pointpos\":0,\"showlegend\":false,\"x\":[\"uniform\",\"uniform\",\"uniform\",\"uniform\",\"uniform\",\"unweigthed\",\"unweigthed\",\"unweigthed\",\"unweigthed\",\"unweigthed\",\"weighted\",\"weighted\",\"weighted\",\"weighted\",\"weighted\"],\"x0\":\" \",\"xaxis\":\"x11\",\"y\":[0.661963516970983,0.688694774031877,0.6501194463524792,0.6824736769599183,0.6707028924195418,0.6390037643637867,0.640910284055805,0.6358124205452449,0.6439328195792327,0.6397775059457632,0.6990627014009959,0.6299790904300604,0.6297642541481874,0.637679231633505,0.6630187516343302],\"y0\":\" \",\"yaxis\":\"y11\",\"type\":\"box\"},{\"alignmentgroup\":\"True\",\"boxpoints\":\"all\",\"fillcolor\":\"rgba(255,255,255,0)\",\"hoveron\":\"points\",\"hovertemplate\":\"metric=balanced_accuracy<br>signal=AAA-1<br>Experiment type=%{x}<br>Metric value=%{y}<extra></extra>\",\"legendgroup\":\"\",\"line\":{\"color\":\"rgba(255,255,255,0)\"},\"marker\":{\"color\":\"#636efa\"},\"name\":\"\",\"offsetgroup\":\"\",\"orientation\":\"v\",\"pointpos\":0,\"showlegend\":false,\"x\":[\"uniform\",\"uniform\",\"uniform\",\"uniform\",\"uniform\",\"unweigthed\",\"unweigthed\",\"unweigthed\",\"unweigthed\",\"unweigthed\",\"weighted\",\"weighted\",\"weighted\",\"weighted\",\"weighted\"],\"x0\":\" \",\"xaxis\":\"x12\",\"y\":[0.5594673731176798,0.5602783159538954,0.565389598727422,0.5740903306148666,0.558348075489556,0.6866932057445354,0.6871282751083685,0.6821158365130697,0.6933902177578086,0.6880718974627604,0.5964263411456061,0.522599641473579,0.5709974443352428,0.5563923821251516,0.545593385766373],\"y0\":\" \",\"yaxis\":\"y12\",\"type\":\"box\"},{\"alignmentgroup\":\"True\",\"boxpoints\":\"all\",\"fillcolor\":\"rgba(255,255,255,0)\",\"hoveron\":\"points\",\"hovertemplate\":\"metric=precision<br>signal=A-1<br>Experiment type=%{x}<br>Metric value=%{y}<extra></extra>\",\"legendgroup\":\"\",\"line\":{\"color\":\"rgba(255,255,255,0)\"},\"marker\":{\"color\":\"#636efa\"},\"name\":\"\",\"offsetgroup\":\"\",\"orientation\":\"v\",\"pointpos\":0,\"showlegend\":false,\"x\":[\"uniform\",\"uniform\",\"uniform\",\"uniform\",\"uniform\",\"unweigthed\",\"unweigthed\",\"unweigthed\",\"unweigthed\",\"unweigthed\",\"weighted\",\"weighted\",\"weighted\",\"weighted\",\"weighted\"],\"x0\":\" \",\"xaxis\":\"x7\",\"y\":[0.19267900241351568,0.2006394884092726,0.1901651940069151,0.20031608060055314,0.20344287949921752,0.19724717135191883,0.1966596095036462,0.1999291031549096,0.19918080748976008,0.20102972150713785,0.19724717135191458,0.19665960950364286,0.19992910315490686,0.19918080748975625,0.20102972150713402],\"y0\":\" \",\"yaxis\":\"y7\",\"type\":\"box\"},{\"alignmentgroup\":\"True\",\"boxpoints\":\"all\",\"fillcolor\":\"rgba(255,255,255,0)\",\"hoveron\":\"points\",\"hovertemplate\":\"metric=precision<br>signal=AA-1<br>Experiment type=%{x}<br>Metric value=%{y}<extra></extra>\",\"legendgroup\":\"\",\"line\":{\"color\":\"rgba(255,255,255,0)\"},\"marker\":{\"color\":\"#636efa\"},\"name\":\"\",\"offsetgroup\":\"\",\"orientation\":\"v\",\"pointpos\":0,\"showlegend\":false,\"x\":[\"uniform\",\"uniform\",\"uniform\",\"uniform\",\"uniform\",\"unweigthed\",\"unweigthed\",\"unweigthed\",\"unweigthed\",\"unweigthed\",\"weighted\",\"weighted\",\"weighted\",\"weighted\",\"weighted\"],\"x0\":\" \",\"xaxis\":\"x8\",\"y\":[0.17932148626817448,0.21451612903225806,0.18269230769230768,0.19558359621451105,0.20376175548589343,0.1978021978021978,0.19456762749445677,0.1961437092523235,0.20141098353852538,0.2010223818734457,0.1978021978022032,0.19456762749446224,0.19614370925232896,0.20141098353853082,0.20102238187345112],\"y0\":\" \",\"yaxis\":\"y8\",\"type\":\"box\"},{\"alignmentgroup\":\"True\",\"boxpoints\":\"all\",\"fillcolor\":\"rgba(255,255,255,0)\",\"hoveron\":\"points\",\"hovertemplate\":\"metric=precision<br>signal=AAA-1<br>Experiment type=%{x}<br>Metric value=%{y}<extra></extra>\",\"legendgroup\":\"\",\"line\":{\"color\":\"rgba(255,255,255,0)\"},\"marker\":{\"color\":\"#636efa\"},\"name\":\"\",\"offsetgroup\":\"\",\"orientation\":\"v\",\"pointpos\":0,\"showlegend\":false,\"x\":[\"uniform\",\"uniform\",\"uniform\",\"uniform\",\"uniform\",\"unweigthed\",\"unweigthed\",\"unweigthed\",\"unweigthed\",\"unweigthed\",\"weighted\",\"weighted\",\"weighted\",\"weighted\",\"weighted\"],\"x0\":\" \",\"xaxis\":\"x9\",\"y\":[0.1870967741935484,0.18471337579617833,0.21637426900584794,0.2328767123287671,0.1962025316455696,0.19895714518494378,0.1912729658792651,0.19583401672953912,0.20191216982660834,0.20376990575235618,0.1989571451849355,0.19127296587925768,0.1958340167295315,0.20191216982659949,0.2037699057523475],\"y0\":\" \",\"yaxis\":\"y9\",\"type\":\"box\"},{\"alignmentgroup\":\"True\",\"boxpoints\":\"all\",\"fillcolor\":\"rgba(255,255,255,0)\",\"hoveron\":\"points\",\"hovertemplate\":\"metric=recall/sensitivity<br>signal=A-1<br>Experiment type=%{x}<br>Metric value=%{y}<extra></extra>\",\"legendgroup\":\"\",\"line\":{\"color\":\"rgba(255,255,255,0)\"},\"marker\":{\"color\":\"#636efa\"},\"name\":\"\",\"offsetgroup\":\"\",\"orientation\":\"v\",\"pointpos\":0,\"showlegend\":false,\"x\":[\"uniform\",\"uniform\",\"uniform\",\"uniform\",\"uniform\",\"unweigthed\",\"unweigthed\",\"unweigthed\",\"unweigthed\",\"unweigthed\",\"weighted\",\"weighted\",\"weighted\",\"weighted\",\"weighted\"],\"x0\":\" \",\"xaxis\":\"x4\",\"y\":[0.770096463022508,0.7856025039123631,0.75,0.7848297213622291,0.7658321060382917,0.9825682742591516,0.9806451612903225,0.9774696707105719,0.9872389791183295,0.9817142857142858,0.7682871422081091,0.7487684729064265,0.7184713375796445,0.8198458574181311,0.7595048629531607],\"y0\":\" \",\"yaxis\":\"y4\",\"type\":\"box\"},{\"alignmentgroup\":\"True\",\"boxpoints\":\"all\",\"fillcolor\":\"rgba(255,255,255,0)\",\"hoveron\":\"points\",\"hovertemplate\":\"metric=recall/sensitivity<br>signal=AA-1<br>Experiment type=%{x}<br>Metric value=%{y}<extra></extra>\",\"legendgroup\":\"\",\"line\":{\"color\":\"rgba(255,255,255,0)\"},\"marker\":{\"color\":\"#636efa\"},\"name\":\"\",\"offsetgroup\":\"\",\"orientation\":\"v\",\"pointpos\":0,\"showlegend\":false,\"x\":[\"uniform\",\"uniform\",\"uniform\",\"uniform\",\"uniform\",\"unweigthed\",\"unweigthed\",\"unweigthed\",\"unweigthed\",\"unweigthed\",\"weighted\",\"weighted\",\"weighted\",\"weighted\",\"weighted\"],\"x0\":\" \",\"xaxis\":\"x5\",\"y\":[0.376271186440678,0.42765273311897106,0.35294117647058826,0.4175084175084175,0.3939393939393939,0.9645010046885466,0.9623029472241261,0.9521885521885521,0.9674418604651163,0.9610303830911493,0.4561292366170385,0.31096345514949847,0.3124861878452998,0.3260918253079472,0.381089575694078],\"y0\":\" \",\"yaxis\":\"y5\",\"type\":\"box\"},{\"alignmentgroup\":\"True\",\"boxpoints\":\"all\",\"fillcolor\":\"rgba(255,255,255,0)\",\"hoveron\":\"points\",\"hovertemplate\":\"metric=recall/sensitivity<br>signal=AAA-1<br>Experiment type=%{x}<br>Metric value=%{y}<extra></extra>\",\"legendgroup\":\"\",\"line\":{\"color\":\"rgba(255,255,255,0)\"},\"marker\":{\"color\":\"#636efa\"},\"name\":\"\",\"offsetgroup\":\"\",\"orientation\":\"v\",\"pointpos\":0,\"showlegend\":false,\"x\":[\"uniform\",\"uniform\",\"uniform\",\"uniform\",\"uniform\",\"unweigthed\",\"unweigthed\",\"unweigthed\",\"unweigthed\",\"unweigthed\",\"weighted\",\"weighted\",\"weighted\",\"weighted\",\"weighted\"],\"x0\":\" \",\"xaxis\":\"x6\",\"y\":[0.1318181818181818,0.1336405529953917,0.14453125,0.1596244131455399,0.1297071129707113,0.9385088393543428,0.9372990353697749,0.9270186335403726,0.9533282325937261,0.9414414414414415,0.20889649272882488,0.05859296482412158,0.1553069719042615,0.12587130013132442,0.10601961447412812],\"y0\":\" \",\"yaxis\":\"y6\",\"type\":\"box\"},{\"alignmentgroup\":\"True\",\"boxpoints\":\"all\",\"fillcolor\":\"rgba(255,255,255,0)\",\"hoveron\":\"points\",\"hovertemplate\":\"metric=specificity<br>signal=A-1<br>Experiment type=%{x}<br>Metric value=%{y}<extra></extra>\",\"legendgroup\":\"\",\"line\":{\"color\":\"rgba(255,255,255,0)\"},\"marker\":{\"color\":\"#636efa\"},\"name\":\"\",\"offsetgroup\":\"\",\"orientation\":\"v\",\"pointpos\":0,\"showlegend\":false,\"x\":[\"uniform\",\"uniform\",\"uniform\",\"uniform\",\"uniform\",\"unweigthed\",\"unweigthed\",\"unweigthed\",\"unweigthed\",\"unweigthed\",\"weighted\",\"weighted\",\"weighted\",\"weighted\",\"weighted\"],\"x0\":\" \",\"xaxis\":\"x\",\"y\":[0.7859884836852208,0.786347612434569,0.7743040685224839,0.7836219799016464,0.7815685012337732,0.16874018601280347,0.17661241711874623,0.1811585439593663,0.17315128081198647,0.17236363636363636,0.7753256504848194,0.7847802111233697,0.7899618450848356,0.7807011921548594,0.7797561447648685],\"y0\":\" \",\"yaxis\":\"y\",\"type\":\"box\"},{\"alignmentgroup\":\"True\",\"boxpoints\":\"all\",\"fillcolor\":\"rgba(255,255,255,0)\",\"hoveron\":\"points\",\"hovertemplate\":\"metric=specificity<br>signal=AA-1<br>Experiment type=%{x}<br>Metric value=%{y}<extra></extra>\",\"legendgroup\":\"\",\"line\":{\"color\":\"rgba(255,255,255,0)\"},\"marker\":{\"color\":\"#636efa\"},\"name\":\"\",\"offsetgroup\":\"\",\"orientation\":\"v\",\"pointpos\":0,\"showlegend\":false,\"x\":[\"uniform\",\"uniform\",\"uniform\",\"uniform\",\"uniform\",\"unweigthed\",\"unweigthed\",\"unweigthed\",\"unweigthed\",\"unweigthed\",\"weighted\",\"weighted\",\"weighted\",\"weighted\",\"weighted\"],\"x0\":\" \",\"xaxis\":\"x2\",\"y\":[0.947655847501288,0.9497368149447828,0.9472977162343702,0.9474389364114192,0.9474663908996898,0.3135065240390267,0.3195176208874839,0.31943628890193776,0.32042377869334904,0.3185246288003771,0.9419961661850444,0.948994725710724,0.9470423204511703,0.9492666379591532,0.9449479275746734],\"y0\":\" \",\"yaxis\":\"y2\",\"type\":\"box\"},{\"alignmentgroup\":\"True\",\"boxpoints\":\"all\",\"fillcolor\":\"rgba(255,255,255,0)\",\"hoveron\":\"points\",\"hovertemplate\":\"metric=specificity<br>signal=AAA-1<br>Experiment type=%{x}<br>Metric value=%{y}<extra></extra>\",\"legendgroup\":\"\",\"line\":{\"color\":\"rgba(255,255,255,0)\"},\"marker\":{\"color\":\"#636efa\"},\"name\":\"\",\"offsetgroup\":\"\",\"orientation\":\"v\",\"pointpos\":0,\"showlegend\":false,\"x\":[\"uniform\",\"uniform\",\"uniform\",\"uniform\",\"uniform\",\"unweigthed\",\"unweigthed\",\"unweigthed\",\"unweigthed\",\"unweigthed\",\"weighted\",\"weighted\",\"weighted\",\"weighted\",\"weighted\"],\"x0\":\" \",\"xaxis\":\"x3\",\"y\":[0.9871165644171779,0.9869160789123991,0.986247947454844,0.9885562480841933,0.9869890380084008,0.4348775721347281,0.4369575148469621,0.4372130394857668,0.4334522029218912,0.4347023534840794,0.9839561895622938,0.9866063181229906,0.9866879167661713,0.9869134641189411,0.9851671570585412],\"y0\":\" \",\"yaxis\":\"y3\",\"type\":\"box\"}],                        {\"template\":{\"data\":{\"bar\":[{\"error_x\":{\"color\":\"#2a3f5f\"},\"error_y\":{\"color\":\"#2a3f5f\"},\"marker\":{\"line\":{\"color\":\"#E5ECF6\",\"width\":0.5},\"pattern\":{\"fillmode\":\"overlay\",\"size\":10,\"solidity\":0.2}},\"type\":\"bar\"}],\"barpolar\":[{\"marker\":{\"line\":{\"color\":\"#E5ECF6\",\"width\":0.5},\"pattern\":{\"fillmode\":\"overlay\",\"size\":10,\"solidity\":0.2}},\"type\":\"barpolar\"}],\"carpet\":[{\"aaxis\":{\"endlinecolor\":\"#2a3f5f\",\"gridcolor\":\"white\",\"linecolor\":\"white\",\"minorgridcolor\":\"white\",\"startlinecolor\":\"#2a3f5f\"},\"baxis\":{\"endlinecolor\":\"#2a3f5f\",\"gridcolor\":\"white\",\"linecolor\":\"white\",\"minorgridcolor\":\"white\",\"startlinecolor\":\"#2a3f5f\"},\"type\":\"carpet\"}],\"choropleth\":[{\"colorbar\":{\"outlinewidth\":0,\"ticks\":\"\"},\"type\":\"choropleth\"}],\"contour\":[{\"colorbar\":{\"outlinewidth\":0,\"ticks\":\"\"},\"colorscale\":[[0.0,\"#0d0887\"],[0.1111111111111111,\"#46039f\"],[0.2222222222222222,\"#7201a8\"],[0.3333333333333333,\"#9c179e\"],[0.4444444444444444,\"#bd3786\"],[0.5555555555555556,\"#d8576b\"],[0.6666666666666666,\"#ed7953\"],[0.7777777777777778,\"#fb9f3a\"],[0.8888888888888888,\"#fdca26\"],[1.0,\"#f0f921\"]],\"type\":\"contour\"}],\"contourcarpet\":[{\"colorbar\":{\"outlinewidth\":0,\"ticks\":\"\"},\"type\":\"contourcarpet\"}],\"heatmap\":[{\"colorbar\":{\"outlinewidth\":0,\"ticks\":\"\"},\"colorscale\":[[0.0,\"#0d0887\"],[0.1111111111111111,\"#46039f\"],[0.2222222222222222,\"#7201a8\"],[0.3333333333333333,\"#9c179e\"],[0.4444444444444444,\"#bd3786\"],[0.5555555555555556,\"#d8576b\"],[0.6666666666666666,\"#ed7953\"],[0.7777777777777778,\"#fb9f3a\"],[0.8888888888888888,\"#fdca26\"],[1.0,\"#f0f921\"]],\"type\":\"heatmap\"}],\"heatmapgl\":[{\"colorbar\":{\"outlinewidth\":0,\"ticks\":\"\"},\"colorscale\":[[0.0,\"#0d0887\"],[0.1111111111111111,\"#46039f\"],[0.2222222222222222,\"#7201a8\"],[0.3333333333333333,\"#9c179e\"],[0.4444444444444444,\"#bd3786\"],[0.5555555555555556,\"#d8576b\"],[0.6666666666666666,\"#ed7953\"],[0.7777777777777778,\"#fb9f3a\"],[0.8888888888888888,\"#fdca26\"],[1.0,\"#f0f921\"]],\"type\":\"heatmapgl\"}],\"histogram\":[{\"marker\":{\"pattern\":{\"fillmode\":\"overlay\",\"size\":10,\"solidity\":0.2}},\"type\":\"histogram\"}],\"histogram2d\":[{\"colorbar\":{\"outlinewidth\":0,\"ticks\":\"\"},\"colorscale\":[[0.0,\"#0d0887\"],[0.1111111111111111,\"#46039f\"],[0.2222222222222222,\"#7201a8\"],[0.3333333333333333,\"#9c179e\"],[0.4444444444444444,\"#bd3786\"],[0.5555555555555556,\"#d8576b\"],[0.6666666666666666,\"#ed7953\"],[0.7777777777777778,\"#fb9f3a\"],[0.8888888888888888,\"#fdca26\"],[1.0,\"#f0f921\"]],\"type\":\"histogram2d\"}],\"histogram2dcontour\":[{\"colorbar\":{\"outlinewidth\":0,\"ticks\":\"\"},\"colorscale\":[[0.0,\"#0d0887\"],[0.1111111111111111,\"#46039f\"],[0.2222222222222222,\"#7201a8\"],[0.3333333333333333,\"#9c179e\"],[0.4444444444444444,\"#bd3786\"],[0.5555555555555556,\"#d8576b\"],[0.6666666666666666,\"#ed7953\"],[0.7777777777777778,\"#fb9f3a\"],[0.8888888888888888,\"#fdca26\"],[1.0,\"#f0f921\"]],\"type\":\"histogram2dcontour\"}],\"mesh3d\":[{\"colorbar\":{\"outlinewidth\":0,\"ticks\":\"\"},\"type\":\"mesh3d\"}],\"parcoords\":[{\"line\":{\"colorbar\":{\"outlinewidth\":0,\"ticks\":\"\"}},\"type\":\"parcoords\"}],\"pie\":[{\"automargin\":true,\"type\":\"pie\"}],\"scatter\":[{\"marker\":{\"colorbar\":{\"outlinewidth\":0,\"ticks\":\"\"}},\"type\":\"scatter\"}],\"scatter3d\":[{\"line\":{\"colorbar\":{\"outlinewidth\":0,\"ticks\":\"\"}},\"marker\":{\"colorbar\":{\"outlinewidth\":0,\"ticks\":\"\"}},\"type\":\"scatter3d\"}],\"scattercarpet\":[{\"marker\":{\"colorbar\":{\"outlinewidth\":0,\"ticks\":\"\"}},\"type\":\"scattercarpet\"}],\"scattergeo\":[{\"marker\":{\"colorbar\":{\"outlinewidth\":0,\"ticks\":\"\"}},\"type\":\"scattergeo\"}],\"scattergl\":[{\"marker\":{\"colorbar\":{\"outlinewidth\":0,\"ticks\":\"\"}},\"type\":\"scattergl\"}],\"scattermapbox\":[{\"marker\":{\"colorbar\":{\"outlinewidth\":0,\"ticks\":\"\"}},\"type\":\"scattermapbox\"}],\"scatterpolar\":[{\"marker\":{\"colorbar\":{\"outlinewidth\":0,\"ticks\":\"\"}},\"type\":\"scatterpolar\"}],\"scatterpolargl\":[{\"marker\":{\"colorbar\":{\"outlinewidth\":0,\"ticks\":\"\"}},\"type\":\"scatterpolargl\"}],\"scatterternary\":[{\"marker\":{\"colorbar\":{\"outlinewidth\":0,\"ticks\":\"\"}},\"type\":\"scatterternary\"}],\"surface\":[{\"colorbar\":{\"outlinewidth\":0,\"ticks\":\"\"},\"colorscale\":[[0.0,\"#0d0887\"],[0.1111111111111111,\"#46039f\"],[0.2222222222222222,\"#7201a8\"],[0.3333333333333333,\"#9c179e\"],[0.4444444444444444,\"#bd3786\"],[0.5555555555555556,\"#d8576b\"],[0.6666666666666666,\"#ed7953\"],[0.7777777777777778,\"#fb9f3a\"],[0.8888888888888888,\"#fdca26\"],[1.0,\"#f0f921\"]],\"type\":\"surface\"}],\"table\":[{\"cells\":{\"fill\":{\"color\":\"#EBF0F8\"},\"line\":{\"color\":\"white\"}},\"header\":{\"fill\":{\"color\":\"#C8D4E3\"},\"line\":{\"color\":\"white\"}},\"type\":\"table\"}]},\"layout\":{\"annotationdefaults\":{\"arrowcolor\":\"#2a3f5f\",\"arrowhead\":0,\"arrowwidth\":1},\"autotypenumbers\":\"strict\",\"coloraxis\":{\"colorbar\":{\"outlinewidth\":0,\"ticks\":\"\"}},\"colorscale\":{\"diverging\":[[0,\"#8e0152\"],[0.1,\"#c51b7d\"],[0.2,\"#de77ae\"],[0.3,\"#f1b6da\"],[0.4,\"#fde0ef\"],[0.5,\"#f7f7f7\"],[0.6,\"#e6f5d0\"],[0.7,\"#b8e186\"],[0.8,\"#7fbc41\"],[0.9,\"#4d9221\"],[1,\"#276419\"]],\"sequential\":[[0.0,\"#0d0887\"],[0.1111111111111111,\"#46039f\"],[0.2222222222222222,\"#7201a8\"],[0.3333333333333333,\"#9c179e\"],[0.4444444444444444,\"#bd3786\"],[0.5555555555555556,\"#d8576b\"],[0.6666666666666666,\"#ed7953\"],[0.7777777777777778,\"#fb9f3a\"],[0.8888888888888888,\"#fdca26\"],[1.0,\"#f0f921\"]],\"sequentialminus\":[[0.0,\"#0d0887\"],[0.1111111111111111,\"#46039f\"],[0.2222222222222222,\"#7201a8\"],[0.3333333333333333,\"#9c179e\"],[0.4444444444444444,\"#bd3786\"],[0.5555555555555556,\"#d8576b\"],[0.6666666666666666,\"#ed7953\"],[0.7777777777777778,\"#fb9f3a\"],[0.8888888888888888,\"#fdca26\"],[1.0,\"#f0f921\"]]},\"colorway\":[\"#636efa\",\"#EF553B\",\"#00cc96\",\"#ab63fa\",\"#FFA15A\",\"#19d3f3\",\"#FF6692\",\"#B6E880\",\"#FF97FF\",\"#FECB52\"],\"font\":{\"color\":\"#2a3f5f\"},\"geo\":{\"bgcolor\":\"white\",\"lakecolor\":\"white\",\"landcolor\":\"#E5ECF6\",\"showlakes\":true,\"showland\":true,\"subunitcolor\":\"white\"},\"hoverlabel\":{\"align\":\"left\"},\"hovermode\":\"closest\",\"mapbox\":{\"style\":\"light\"},\"paper_bgcolor\":\"white\",\"plot_bgcolor\":\"#E5ECF6\",\"polar\":{\"angularaxis\":{\"gridcolor\":\"white\",\"linecolor\":\"white\",\"ticks\":\"\"},\"bgcolor\":\"#E5ECF6\",\"radialaxis\":{\"gridcolor\":\"white\",\"linecolor\":\"white\",\"ticks\":\"\"}},\"scene\":{\"xaxis\":{\"backgroundcolor\":\"#E5ECF6\",\"gridcolor\":\"white\",\"gridwidth\":2,\"linecolor\":\"white\",\"showbackground\":true,\"ticks\":\"\",\"zerolinecolor\":\"white\"},\"yaxis\":{\"backgroundcolor\":\"#E5ECF6\",\"gridcolor\":\"white\",\"gridwidth\":2,\"linecolor\":\"white\",\"showbackground\":true,\"ticks\":\"\",\"zerolinecolor\":\"white\"},\"zaxis\":{\"backgroundcolor\":\"#E5ECF6\",\"gridcolor\":\"white\",\"gridwidth\":2,\"linecolor\":\"white\",\"showbackground\":true,\"ticks\":\"\",\"zerolinecolor\":\"white\"}},\"shapedefaults\":{\"line\":{\"color\":\"#2a3f5f\"}},\"ternary\":{\"aaxis\":{\"gridcolor\":\"white\",\"linecolor\":\"white\",\"ticks\":\"\"},\"baxis\":{\"gridcolor\":\"white\",\"linecolor\":\"white\",\"ticks\":\"\"},\"bgcolor\":\"#E5ECF6\",\"caxis\":{\"gridcolor\":\"white\",\"linecolor\":\"white\",\"ticks\":\"\"}},\"title\":{\"x\":0.05},\"xaxis\":{\"automargin\":true,\"gridcolor\":\"white\",\"linecolor\":\"white\",\"ticks\":\"\",\"title\":{\"standoff\":15},\"zerolinecolor\":\"white\",\"zerolinewidth\":2},\"yaxis\":{\"automargin\":true,\"gridcolor\":\"white\",\"linecolor\":\"white\",\"ticks\":\"\",\"title\":{\"standoff\":15},\"zerolinecolor\":\"white\",\"zerolinewidth\":2}}},\"xaxis\":{\"anchor\":\"y\",\"domain\":[0.0,0.3133333333333333],\"title\":{\"text\":\"Experiment type\"}},\"yaxis\":{\"anchor\":\"x\",\"domain\":[0.0,0.17600000000000002],\"title\":{\"text\":\"Metric value\"}},\"xaxis2\":{\"anchor\":\"y2\",\"domain\":[0.3333333333333333,0.6466666666666666],\"matches\":\"x\",\"title\":{\"text\":\"Experiment type\"}},\"yaxis2\":{\"anchor\":\"x2\",\"domain\":[0.0,0.17600000000000002],\"matches\":\"y\",\"showticklabels\":false},\"xaxis3\":{\"anchor\":\"y3\",\"domain\":[0.6666666666666666,0.98],\"matches\":\"x\",\"title\":{\"text\":\"Experiment type\"}},\"yaxis3\":{\"anchor\":\"x3\",\"domain\":[0.0,0.17600000000000002],\"matches\":\"y\",\"showticklabels\":false},\"xaxis4\":{\"anchor\":\"y4\",\"domain\":[0.0,0.3133333333333333],\"matches\":\"x\",\"showticklabels\":false},\"yaxis4\":{\"anchor\":\"x4\",\"domain\":[0.20600000000000002,0.382],\"matches\":\"y\",\"title\":{\"text\":\"Metric value\"}},\"xaxis5\":{\"anchor\":\"y5\",\"domain\":[0.3333333333333333,0.6466666666666666],\"matches\":\"x\",\"showticklabels\":false},\"yaxis5\":{\"anchor\":\"x5\",\"domain\":[0.20600000000000002,0.382],\"matches\":\"y\",\"showticklabels\":false},\"xaxis6\":{\"anchor\":\"y6\",\"domain\":[0.6666666666666666,0.98],\"matches\":\"x\",\"showticklabels\":false},\"yaxis6\":{\"anchor\":\"x6\",\"domain\":[0.20600000000000002,0.382],\"matches\":\"y\",\"showticklabels\":false},\"xaxis7\":{\"anchor\":\"y7\",\"domain\":[0.0,0.3133333333333333],\"matches\":\"x\",\"showticklabels\":false},\"yaxis7\":{\"anchor\":\"x7\",\"domain\":[0.41200000000000003,0.5880000000000001],\"matches\":\"y\",\"title\":{\"text\":\"Metric value\"}},\"xaxis8\":{\"anchor\":\"y8\",\"domain\":[0.3333333333333333,0.6466666666666666],\"matches\":\"x\",\"showticklabels\":false},\"yaxis8\":{\"anchor\":\"x8\",\"domain\":[0.41200000000000003,0.5880000000000001],\"matches\":\"y\",\"showticklabels\":false},\"xaxis9\":{\"anchor\":\"y9\",\"domain\":[0.6666666666666666,0.98],\"matches\":\"x\",\"showticklabels\":false},\"yaxis9\":{\"anchor\":\"x9\",\"domain\":[0.41200000000000003,0.5880000000000001],\"matches\":\"y\",\"showticklabels\":false},\"xaxis10\":{\"anchor\":\"y10\",\"domain\":[0.0,0.3133333333333333],\"matches\":\"x\",\"showticklabels\":false},\"yaxis10\":{\"anchor\":\"x10\",\"domain\":[0.618,0.794],\"matches\":\"y\",\"title\":{\"text\":\"Metric value\"}},\"xaxis11\":{\"anchor\":\"y11\",\"domain\":[0.3333333333333333,0.6466666666666666],\"matches\":\"x\",\"showticklabels\":false},\"yaxis11\":{\"anchor\":\"x11\",\"domain\":[0.618,0.794],\"matches\":\"y\",\"showticklabels\":false},\"xaxis12\":{\"anchor\":\"y12\",\"domain\":[0.6666666666666666,0.98],\"matches\":\"x\",\"showticklabels\":false},\"yaxis12\":{\"anchor\":\"x12\",\"domain\":[0.618,0.794],\"matches\":\"y\",\"showticklabels\":false},\"xaxis13\":{\"anchor\":\"y13\",\"domain\":[0.0,0.3133333333333333],\"matches\":\"x\",\"showticklabels\":false},\"yaxis13\":{\"anchor\":\"x13\",\"domain\":[0.8240000000000001,1.0],\"matches\":\"y\",\"title\":{\"text\":\"Metric value\"}},\"xaxis14\":{\"anchor\":\"y14\",\"domain\":[0.3333333333333333,0.6466666666666666],\"matches\":\"x\",\"showticklabels\":false},\"yaxis14\":{\"anchor\":\"x14\",\"domain\":[0.8240000000000001,1.0],\"matches\":\"y\",\"showticklabels\":false},\"xaxis15\":{\"anchor\":\"y15\",\"domain\":[0.6666666666666666,0.98],\"matches\":\"x\",\"showticklabels\":false},\"yaxis15\":{\"anchor\":\"x15\",\"domain\":[0.8240000000000001,1.0],\"matches\":\"y\",\"showticklabels\":false},\"annotations\":[{\"font\":{},\"showarrow\":false,\"text\":\"signal=A-1\",\"x\":0.15666666666666665,\"xanchor\":\"center\",\"xref\":\"paper\",\"y\":1.0,\"yanchor\":\"bottom\",\"yref\":\"paper\"},{\"font\":{},\"showarrow\":false,\"text\":\"signal=AA-1\",\"x\":0.49,\"xanchor\":\"center\",\"xref\":\"paper\",\"y\":1.0,\"yanchor\":\"bottom\",\"yref\":\"paper\"},{\"font\":{},\"showarrow\":false,\"text\":\"signal=AAA-1\",\"x\":0.8233333333333333,\"xanchor\":\"center\",\"xref\":\"paper\",\"y\":1.0,\"yanchor\":\"bottom\",\"yref\":\"paper\"},{\"font\":{},\"showarrow\":false,\"text\":\"metric=specificity\",\"textangle\":90,\"x\":0.98,\"xanchor\":\"left\",\"xref\":\"paper\",\"y\":0.08800000000000001,\"yanchor\":\"middle\",\"yref\":\"paper\"},{\"font\":{},\"showarrow\":false,\"text\":\"metric=recall/sensitivity\",\"textangle\":90,\"x\":0.98,\"xanchor\":\"left\",\"xref\":\"paper\",\"y\":0.29400000000000004,\"yanchor\":\"middle\",\"yref\":\"paper\"},{\"font\":{},\"showarrow\":false,\"text\":\"metric=precision\",\"textangle\":90,\"x\":0.98,\"xanchor\":\"left\",\"xref\":\"paper\",\"y\":0.5,\"yanchor\":\"middle\",\"yref\":\"paper\"},{\"font\":{},\"showarrow\":false,\"text\":\"metric=balanced_accuracy\",\"textangle\":90,\"x\":0.98,\"xanchor\":\"left\",\"xref\":\"paper\",\"y\":0.706,\"yanchor\":\"middle\",\"yref\":\"paper\"},{\"font\":{},\"showarrow\":false,\"text\":\"metric=accuracy\",\"textangle\":90,\"x\":0.98,\"xanchor\":\"left\",\"xref\":\"paper\",\"y\":0.912,\"yanchor\":\"middle\",\"yref\":\"paper\"}],\"legend\":{\"tracegroupgap\":0},\"margin\":{\"t\":60},\"boxmode\":\"overlay\",\"autosize\":false,\"width\":1000,\"height\":1000},                        {\"responsive\": true}                    ).then(function(){\n",
       "                            \n",
       "var gd = document.getElementById('5b280129-033b-4628-bc53-c20ab0d3e9fe');\n",
       "var x = new MutationObserver(function (mutations, observer) {{\n",
       "        var display = window.getComputedStyle(gd).display;\n",
       "        if (!display || display === 'none') {{\n",
       "            console.log([gd, 'removed!']);\n",
       "            Plotly.purge(gd);\n",
       "            observer.disconnect();\n",
       "        }}\n",
       "}});\n",
       "\n",
       "// Listen for the removal of the full notebook cells\n",
       "var notebookContainer = gd.closest('#notebook-container');\n",
       "if (notebookContainer) {{\n",
       "    x.observe(notebookContainer, {childList: true});\n",
       "}}\n",
       "\n",
       "// Listen for the clearing of the current output cell\n",
       "var outputEl = gd.closest('.output');\n",
       "if (outputEl) {{\n",
       "    x.observe(outputEl, {childList: true});\n",
       "}}\n",
       "\n",
       "                        })                };                });            </script>        </div>"
      ]
     },
     "metadata": {},
     "output_type": "display_data"
    }
   ],
   "source": [
    "df_1pos = metrics_to_long_format(merge_uni_weighted_dfs(df_uniform_1pos, df_mutagenesis_1pos))\n",
    "df_2pos = metrics_to_long_format(merge_uni_weighted_dfs(df_uniform_2pos, df_mutagenesis_2pos))\n",
    "df_3pos = metrics_to_long_format(merge_uni_weighted_dfs(df_uniform_3pos, df_mutagenesis_3pos))\n",
    "\n",
    "df_1pos[\"signal\"] = \"A-1\"\n",
    "df_2pos[\"signal\"] = \"AA-1\"\n",
    "df_3pos[\"signal\"] = \"AAA-1\"\n",
    "\n",
    "df = pd.concat([df_1pos, df_2pos, df_3pos])\n",
    "\n",
    "\n",
    "fig = px.strip(df, y=\"value\", x=\"type\", facet_row=\"metric\", facet_col=\"signal\", stripmode=\"overlay\",\n",
    "               labels={\n",
    "                   \"value\": \"Metric value\",\n",
    "                   \"type\": \"Experiment type\",\n",
    "               })\n",
    "\n",
    "fig.update_layout(\n",
    "    autosize=False,\n",
    "    width=1000,\n",
    "    height=1000)\n",
    "\n",
    "fig.show()"
   ]
  },
  {
   "cell_type": "code",
   "execution_count": null,
   "id": "6935fbe9",
   "metadata": {},
   "outputs": [],
   "source": []
  }
 ],
 "metadata": {
  "kernelspec": {
   "display_name": "Python 3 (ipykernel)",
   "language": "python",
   "name": "python3"
  },
  "language_info": {
   "codemirror_mode": {
    "name": "ipython",
    "version": 3
   },
   "file_extension": ".py",
   "mimetype": "text/x-python",
   "name": "python",
   "nbconvert_exporter": "python",
   "pygments_lexer": "ipython3",
   "version": "3.8.7"
  }
 },
 "nbformat": 4,
 "nbformat_minor": 5
}
